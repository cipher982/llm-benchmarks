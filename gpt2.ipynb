{
 "cells": [
  {
   "cell_type": "code",
   "execution_count": 1,
   "metadata": {},
   "outputs": [],
   "source": [
    "# !pip install ipywidgets\n",
    "# !pip install xformers"
   ]
  },
  {
   "cell_type": "code",
   "execution_count": 2,
   "metadata": {},
   "outputs": [
    {
     "name": "stdout",
     "output_type": "stream",
     "text": [
      "===== Model: gpt2 =====\n",
      "Output tokens: 1024\n",
      "GPU memory usage: 0.26 GB\n",
      "Time: 5.30 s\n",
      "Tokens per second: 195.99\n",
      "===== Model: gpt2-medium =====\n",
      "Output tokens: 1024\n",
      "GPU memory usage: 0.69 GB\n",
      "Time: 9.60 s\n",
      "Tokens per second: 107.89\n",
      "===== Model: gpt2-large =====\n",
      "Output tokens: 1024\n",
      "GPU memory usage: 1.48 GB\n",
      "Time: 15.01 s\n",
      "Tokens per second: 69.23\n",
      "===== Model: gpt2-xl =====\n",
      "Output tokens: 1024\n",
      "GPU memory usage: 3.02 GB\n",
      "Time: 19.77 s\n",
      "Tokens per second: 52.72\n"
     ]
    }
   ],
   "source": [
    "from time import time\n",
    "import gc\n",
    "import torch\n",
    "from tqdm import tqdm\n",
    "from transformers import pipeline\n",
    "\n",
    "models = [\"gpt2\", \"gpt2-medium\", \"gpt2-large\", \"gpt2-xl\"]\n",
    "\n",
    "for model in models:\n",
    "    print(f\"===== Model: {model} =====\")\n",
    "    pipe = pipeline('text-generation', model=model, torch_dtype=torch.float16, trust_remote_code=True, device_map=\"auto\")\n",
    "    # pipe.enable_xformers_memory_efficient_attention()\n",
    "\n",
    "    time0 = time()\n",
    "    text = \"Question: Tell me a history of WW2 in 3 or 4 paragraphs.\\nAnswer: \"\n",
    "    res = pipe(\n",
    "        text,\n",
    "        num_beams=5, \n",
    "        min_length=512, \n",
    "        max_length=1024, \n",
    "        pad_token_id=50256,\n",
    "        # truncation=True\n",
    "    )\n",
    "    time1 = time()\n",
    "    output_tokens = pipe.tokenizer.encode(res[0][\"generated_text\"])\n",
    "    gpu_mem_usage = torch.cuda.memory_allocated() / 1024**3\n",
    "\n",
    "    del pipe\n",
    "    gc.collect()\n",
    "    torch.cuda.empty_cache()\n",
    "\n",
    "    print(f\"Output tokens: {len(output_tokens)}\")\n",
    "    print(f\"GPU memory usage: {gpu_mem_usage:.2f} GB\")\n",
    "    print(f\"Time: {time() - time0:.2f} s\")\n",
    "    print(f\"Tokens per second: {len(output_tokens) / (time1 - time0):.2f}\")"
   ]
  }
 ],
 "metadata": {
  "kernelspec": {
   "display_name": "dolly2",
   "language": "python",
   "name": "python3"
  },
  "language_info": {
   "codemirror_mode": {
    "name": "ipython",
    "version": 3
   },
   "file_extension": ".py",
   "mimetype": "text/x-python",
   "name": "python",
   "nbconvert_exporter": "python",
   "pygments_lexer": "ipython3",
   "version": "3.9.16"
  },
  "orig_nbformat": 4
 },
 "nbformat": 4,
 "nbformat_minor": 2
}
