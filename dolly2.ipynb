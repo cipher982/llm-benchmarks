{
 "cells": [
  {
   "cell_type": "code",
   "execution_count": 1,
   "metadata": {},
   "outputs": [],
   "source": [
    "# !pip install \"accelerate>=0.16.0,<1\" \"transformers[torch]>=4.28.1,<5\" \"torch>=1.13.1,<2\"\n",
    "# !pip install --upgrade accelerate bitsandbytes torch\n",
    "# !conda install cudatoolkit -y"
   ]
  },
  {
   "cell_type": "code",
   "execution_count": 3,
   "metadata": {},
   "outputs": [
    {
     "name": "stdout",
     "output_type": "stream",
     "text": [
      "The autoreload extension is already loaded. To reload it, use:\n",
      "  %reload_ext autoreload\n",
      "===== Model: databricks/dolly-v2-3b =====\n",
      "Output tokens: 1024\n",
      "GPU memory usage: 3.03 GB\n",
      "Time: 48.13 s\n",
      "Tokens per second: 21.35\n",
      "===== Model: databricks/dolly-v2-7b =====\n",
      "Output tokens: 1024\n",
      "GPU memory usage: 6.92 GB\n",
      "Time: 56.49 s\n",
      "Tokens per second: 18.21\n",
      "===== Model: databricks/dolly-v2-12b =====\n",
      "Output tokens: 1024\n",
      "GPU memory usage: 11.70 GB\n",
      "Time: 61.59 s\n",
      "Tokens per second: 16.71\n"
     ]
    }
   ],
   "source": [
    "from time import time\n",
    "import gc\n",
    "import torch\n",
    "from transformers import AutoTokenizer, AutoModelForCausalLM\n",
    "\n",
    "# autoreload\n",
    "%load_ext autoreload\n",
    "%autoreload 2\n",
    "\n",
    "# from transformers import pipeline\n",
    "\n",
    "models = [\"databricks/dolly-v2-3b\", \"databricks/dolly-v2-7b\", \"databricks/dolly-v2-12b\"]\n",
    "\n",
    "for model_name in models:\n",
    "    tokenizer = AutoTokenizer.from_pretrained(model_name, padding_side=\"left\")\n",
    "    model = AutoModelForCausalLM.from_pretrained(\n",
    "        model_name, \n",
    "        load_in_8bit=True, \n",
    "        torch_dtype=torch.float16, \n",
    "        device_map=\"auto\"\n",
    "    )\n",
    "    text = \"Question: Tell me a history of WW2 in 3 or 4 paragraphs.\\nAnswer: \"\n",
    "    input_tokens = tokenizer(text, return_tensors=\"pt\").input_ids.to('cuda')\n",
    "    time0 = time()\n",
    "    output = model.generate(\n",
    "      input_tokens,\n",
    "      do_sample=True,\n",
    "      temperature=0.9,\n",
    "      max_length=1024,\n",
    "      pad_token_id=tokenizer.eos_token_id,\n",
    "      eos_token_id=tokenizer.eos_token_id,\n",
    "    )\n",
    "    time1 = time()\n",
    "\n",
    "    gpu_mem_usage = torch.cuda.memory_allocated() / 1024**3\n",
    "\n",
    "    del model\n",
    "    gc.collect()\n",
    "    torch.cuda.empty_cache()\n",
    "\n",
    "    output_tokens = output.cpu().numpy().tolist()[0]\n",
    "    print(f\"===== Model: {model_name} =====\")\n",
    "    print(f\"Output tokens: {len(output_tokens)}\")\n",
    "    print(f\"GPU memory usage: {gpu_mem_usage:.2f} GB\")\n",
    "    print(f\"Time: {time() - time0:.2f} s\")\n",
    "    print(f\"Tokens per second: {len(output_tokens) / (time1 - time0):.2f}\") "
   ]
  }
 ],
 "metadata": {
  "kernelspec": {
   "display_name": "transformers",
   "language": "python",
   "name": "python3"
  },
  "language_info": {
   "codemirror_mode": {
    "name": "ipython",
    "version": 3
   },
   "file_extension": ".py",
   "mimetype": "text/x-python",
   "name": "python",
   "nbconvert_exporter": "python",
   "pygments_lexer": "ipython3",
   "version": "3.9.16"
  },
  "orig_nbformat": 4
 },
 "nbformat": 4,
 "nbformat_minor": 2
}
