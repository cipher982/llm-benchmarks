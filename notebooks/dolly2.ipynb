{
 "cells": [
  {
   "attachments": {},
   "cell_type": "markdown",
   "metadata": {},
   "source": [
    "## Benchmark"
   ]
  },
  {
   "cell_type": "code",
   "execution_count": null,
   "metadata": {},
   "outputs": [],
   "source": [
    "import os\n",
    "\n",
    "import torch\n",
    "\n",
    "from llm_benchmarks.generation import generate_samples\n",
    "from llm_benchmarks.utils import log_metrics_to_csv\n",
    "\n",
    "os.environ[\"WANDB_SILENT\"] = \"true\"\n",
    "\n",
    "config = {\n",
    "    \"load_in_8bit\": True,\n",
    "    \"torch_dtype\": torch.float16,\n",
    "    \"temperature\": 0.1,\n",
    "    \"min_length\": 50,\n",
    "    \"max_length\": 700,\n",
    "    \"try_different_lengths\": True,\n",
    "}\n",
    "\n",
    "model_names = [\"databricks/dolly-v2-3b\", \"databricks/dolly-v2-7b\", \"databricks/dolly-v2-12b\"]\n",
    "for model_name in model_names:\n",
    "    config[\"model_name\"] = model_name\n",
    "    metrics = generate_samples(model_name, config, 20)\n",
    "    log_metrics_to_csv(model_name, config, metrics, \"results\")"
   ]
  },
  {
   "attachments": {},
   "cell_type": "markdown",
   "metadata": {},
   "source": [
    "## Plot"
   ]
  },
  {
   "cell_type": "code",
   "execution_count": 3,
   "metadata": {},
   "outputs": [
    {
     "data": {
      "application/vnd.plotly.v1+json": {
       "config": {
        "plotlyServerURL": "https://plot.ly"
       },
       "data": [
        {
         "hovertemplate": "grouping=dolly-v2-12b_4bit<br>output_tokens=%{x}<br>tokens_per_second=%{y}<extra></extra>",
         "legendgroup": "dolly-v2-12b_4bit",
         "marker": {
          "color": "#636efa",
          "size": 12,
          "symbol": "circle"
         },
         "mode": "markers",
         "name": "dolly-v2-12b_4bit",
         "orientation": "v",
         "showlegend": true,
         "type": "scatter",
         "x": [
          64,
          170,
          277,
          384,
          490,
          597,
          704,
          810,
          917,
          1024
         ],
         "xaxis": "x",
         "y": [
          7.58,
          6.01,
          5.73,
          5.61,
          5.55,
          5.5,
          5.47,
          5.44,
          5.42,
          5.4
         ],
         "yaxis": "y"
        },
        {
         "hovertemplate": "<b>OLS trendline</b><br>tokens_per_second = -1.59259 * log10(output_tokens) + 9.95289<br>R<sup>2</sup>=0.824095<br><br>grouping=dolly-v2-12b_4bit<br>output_tokens=%{x}<br>tokens_per_second=%{y} <b>(trend)</b><extra></extra>",
         "legendgroup": "dolly-v2-12b_4bit",
         "marker": {
          "color": "#636efa",
          "size": 12,
          "symbol": "circle"
         },
         "mode": "lines",
         "name": "dolly-v2-12b_4bit",
         "showlegend": false,
         "type": "scatter",
         "x": [
          64,
          170,
          277,
          384,
          490,
          597,
          704,
          810,
          917,
          1024
         ],
         "xaxis": "x",
         "y": [
          7.076375076002563,
          6.400687192681795,
          6.063008285112341,
          5.837096607700293,
          5.668496947793685,
          5.531887079743603,
          5.417860062208272,
          5.320851446161255,
          5.235035644225832,
          5.1587016583703384
         ],
         "yaxis": "y"
        },
        {
         "hovertemplate": "grouping=dolly-v2-7b_4bit<br>output_tokens=%{x}<br>tokens_per_second=%{y}<extra></extra>",
         "legendgroup": "dolly-v2-7b_4bit",
         "marker": {
          "color": "#EF553B",
          "size": 12,
          "symbol": "circle"
         },
         "mode": "markers",
         "name": "dolly-v2-7b_4bit",
         "orientation": "v",
         "showlegend": true,
         "type": "scatter",
         "x": [
          64,
          170,
          277,
          384,
          490,
          597,
          704,
          810,
          917,
          1024
         ],
         "xaxis": "x",
         "y": [
          12.65,
          10.07,
          9.59,
          9.39,
          9.28,
          9.2,
          9.15,
          9.1,
          9.07,
          9.04
         ],
         "yaxis": "y"
        },
        {
         "hovertemplate": "<b>OLS trendline</b><br>tokens_per_second = -2.64829 * log10(output_tokens) + 16.608<br>R<sup>2</sup>=0.827761<br><br>grouping=dolly-v2-7b_4bit<br>output_tokens=%{x}<br>tokens_per_second=%{y} <b>(trend)</b><extra></extra>",
         "legendgroup": "dolly-v2-7b_4bit",
         "marker": {
          "color": "#EF553B",
          "size": 12,
          "symbol": "circle"
         },
         "mode": "lines",
         "name": "dolly-v2-7b_4bit",
         "showlegend": false,
         "type": "scatter",
         "x": [
          64,
          170,
          277,
          384,
          490,
          597,
          704,
          810,
          917,
          1024
         ],
         "xaxis": "x",
         "y": [
          11.82467992985449,
          10.701093189052205,
          10.139574250265017,
          9.763910616805898,
          9.483549895456527,
          9.256384305851078,
          9.06677124905588,
          8.905457723351788,
          8.762756485715144,
          8.635822354591905
         ],
         "yaxis": "y"
        },
        {
         "hovertemplate": "grouping=dolly-v2-7b_8bit<br>output_tokens=%{x}<br>tokens_per_second=%{y}<extra></extra>",
         "legendgroup": "dolly-v2-7b_8bit",
         "marker": {
          "color": "#00cc96",
          "size": 12,
          "symbol": "circle"
         },
         "mode": "markers",
         "name": "dolly-v2-7b_8bit",
         "orientation": "v",
         "showlegend": true,
         "type": "scatter",
         "x": [
          64,
          170,
          277,
          384,
          490,
          597,
          704,
          810,
          917,
          1024
         ],
         "xaxis": "x",
         "y": [
          24.62,
          19.91,
          18.9,
          18.55,
          18.3,
          18.03,
          17.85,
          17.81,
          17.78,
          17.61
         ],
         "yaxis": "y"
        },
        {
         "hovertemplate": "<b>OLS trendline</b><br>tokens_per_second = -5.19892 * log10(output_tokens) + 32.5875<br>R<sup>2</sup>=0.861387<br><br>grouping=dolly-v2-7b_8bit<br>output_tokens=%{x}<br>tokens_per_second=%{y} <b>(trend)</b><extra></extra>",
         "legendgroup": "dolly-v2-7b_8bit",
         "marker": {
          "color": "#00cc96",
          "size": 12,
          "symbol": "circle"
         },
         "mode": "lines",
         "name": "dolly-v2-7b_8bit",
         "showlegend": false,
         "type": "scatter",
         "x": [
          64,
          170,
          277,
          384,
          490,
          597,
          704,
          810,
          917,
          1024
         ],
         "xaxis": "x",
         "y": [
          23.19731425901015,
          20.99157395894828,
          19.889242552254665,
          19.15176818957503,
          18.601385278155878,
          18.155431016162474,
          17.783197039378045,
          17.46651855638303,
          17.186378306152683,
          16.937190843979586
         ],
         "yaxis": "y"
        },
        {
         "hovertemplate": "grouping=dolly-v2-3b_8bit<br>output_tokens=%{x}<br>tokens_per_second=%{y}<extra></extra>",
         "legendgroup": "dolly-v2-3b_8bit",
         "marker": {
          "color": "#ab63fa",
          "size": 12,
          "symbol": "circle"
         },
         "mode": "markers",
         "name": "dolly-v2-3b_8bit",
         "orientation": "v",
         "showlegend": true,
         "type": "scatter",
         "x": [
          64,
          170,
          277,
          384,
          490,
          597,
          704,
          810,
          917,
          1024
         ],
         "xaxis": "x",
         "y": [
          27.58,
          22.54,
          21.4,
          21.05,
          20.7,
          20.48,
          20.45,
          20.4,
          20.18,
          20.21
         ],
         "yaxis": "y"
        },
        {
         "hovertemplate": "<b>OLS trendline</b><br>tokens_per_second = -5.50352 * log10(output_tokens) + 35.9503<br>R<sup>2</sup>=0.849304<br><br>grouping=dolly-v2-3b_8bit<br>output_tokens=%{x}<br>tokens_per_second=%{y} <b>(trend)</b><extra></extra>",
         "legendgroup": "dolly-v2-3b_8bit",
         "marker": {
          "color": "#ab63fa",
          "size": 12,
          "symbol": "circle"
         },
         "mode": "lines",
         "name": "dolly-v2-3b_8bit",
         "showlegend": false,
         "type": "scatter",
         "x": [
          64,
          170,
          277,
          384,
          490,
          597,
          704,
          810,
          917,
          1024
         ],
         "xaxis": "x",
         "y": [
          26.009976748142442,
          23.675006219981704,
          22.508091263210332,
          21.727409647118552,
          21.144780822985908,
          20.67269892892383,
          20.27865645468181,
          19.94342436744322,
          19.64687122017512,
          19.383084327336906
         ],
         "yaxis": "y"
        },
        {
         "hovertemplate": "grouping=dolly-v2-12b_8bit<br>output_tokens=%{x}<br>tokens_per_second=%{y}<extra></extra>",
         "legendgroup": "dolly-v2-12b_8bit",
         "marker": {
          "color": "#FFA15A",
          "size": 12,
          "symbol": "circle"
         },
         "mode": "markers",
         "name": "dolly-v2-12b_8bit",
         "orientation": "v",
         "showlegend": true,
         "type": "scatter",
         "x": [
          64,
          170,
          277,
          384,
          490,
          597,
          704,
          810,
          917,
          1024
         ],
         "xaxis": "x",
         "y": [
          23.46,
          19.1,
          18.17,
          17.66,
          17.41,
          17.22,
          17.12,
          16.95,
          16.7,
          16.71
         ],
         "yaxis": "y"
        },
        {
         "hovertemplate": "<b>OLS trendline</b><br>tokens_per_second = -5.08292 * log10(output_tokens) + 31.3969<br>R<sup>2</sup>=0.886139<br><br>grouping=dolly-v2-12b_8bit<br>output_tokens=%{x}<br>tokens_per_second=%{y} <b>(trend)</b><extra></extra>",
         "legendgroup": "dolly-v2-12b_8bit",
         "marker": {
          "color": "#FFA15A",
          "size": 12,
          "symbol": "circle"
         },
         "mode": "lines",
         "name": "dolly-v2-12b_8bit",
         "showlegend": false,
         "type": "scatter",
         "x": [
          64,
          170,
          277,
          384,
          490,
          597,
          704,
          810,
          917,
          1024
         ],
         "xaxis": "x",
         "y": [
          22.216231328769492,
          20.059707828580187,
          18.981972800814294,
          18.260953742559273,
          17.722851554126336,
          17.286847893146216,
          16.92291959275563,
          16.61330717348583,
          16.339417707462243,
          16.09579037830035
         ],
         "yaxis": "y"
        },
        {
         "hovertemplate": "grouping=dolly-v2-3b_4bit<br>output_tokens=%{x}<br>tokens_per_second=%{y}<extra></extra>",
         "legendgroup": "dolly-v2-3b_4bit",
         "marker": {
          "color": "#19d3f3",
          "size": 12,
          "symbol": "circle"
         },
         "mode": "markers",
         "name": "dolly-v2-3b_4bit",
         "orientation": "v",
         "showlegend": true,
         "type": "scatter",
         "x": [
          64,
          170,
          277,
          384,
          490,
          597,
          704,
          810,
          917,
          1024
         ],
         "xaxis": "x",
         "y": [
          27.2,
          21.73,
          20.7,
          20.28,
          20.05,
          19.92,
          19.81,
          19.74,
          19.65,
          19.54
         ],
         "yaxis": "y"
        },
        {
         "hovertemplate": "<b>OLS trendline</b><br>tokens_per_second = -5.58029 * log10(output_tokens) + 35.5149<br>R<sup>2</sup>=0.823434<br><br>grouping=dolly-v2-3b_4bit<br>output_tokens=%{x}<br>tokens_per_second=%{y} <b>(trend)</b><extra></extra>",
         "legendgroup": "dolly-v2-3b_4bit",
         "marker": {
          "color": "#19d3f3",
          "size": 12,
          "symbol": "circle"
         },
         "mode": "lines",
         "name": "dolly-v2-3b_4bit",
         "showlegend": false,
         "type": "scatter",
         "x": [
          64,
          170,
          277,
          384,
          490,
          597,
          704,
          810,
          917,
          1024
         ],
         "xaxis": "x",
         "y": [
          25.435906995328324,
          23.06836253014399,
          21.885168560916,
          21.09359606911879,
          20.50283929887439,
          20.024171640366163,
          19.624632088287065,
          19.284723355769103,
          18.98403315262524,
          18.716566308570798
         ],
         "yaxis": "y"
        }
       ],
       "layout": {
        "legend": {
         "title": {
          "text": "grouping"
         },
         "tracegroupgap": 0
        },
        "margin": {
         "t": 60
        },
        "template": {
         "data": {
          "bar": [
           {
            "error_x": {
             "color": "#2a3f5f"
            },
            "error_y": {
             "color": "#2a3f5f"
            },
            "marker": {
             "line": {
              "color": "#E5ECF6",
              "width": 0.5
             },
             "pattern": {
              "fillmode": "overlay",
              "size": 10,
              "solidity": 0.2
             }
            },
            "type": "bar"
           }
          ],
          "barpolar": [
           {
            "marker": {
             "line": {
              "color": "#E5ECF6",
              "width": 0.5
             },
             "pattern": {
              "fillmode": "overlay",
              "size": 10,
              "solidity": 0.2
             }
            },
            "type": "barpolar"
           }
          ],
          "carpet": [
           {
            "aaxis": {
             "endlinecolor": "#2a3f5f",
             "gridcolor": "white",
             "linecolor": "white",
             "minorgridcolor": "white",
             "startlinecolor": "#2a3f5f"
            },
            "baxis": {
             "endlinecolor": "#2a3f5f",
             "gridcolor": "white",
             "linecolor": "white",
             "minorgridcolor": "white",
             "startlinecolor": "#2a3f5f"
            },
            "type": "carpet"
           }
          ],
          "choropleth": [
           {
            "colorbar": {
             "outlinewidth": 0,
             "ticks": ""
            },
            "type": "choropleth"
           }
          ],
          "contour": [
           {
            "colorbar": {
             "outlinewidth": 0,
             "ticks": ""
            },
            "colorscale": [
             [
              0,
              "#0d0887"
             ],
             [
              0.1111111111111111,
              "#46039f"
             ],
             [
              0.2222222222222222,
              "#7201a8"
             ],
             [
              0.3333333333333333,
              "#9c179e"
             ],
             [
              0.4444444444444444,
              "#bd3786"
             ],
             [
              0.5555555555555556,
              "#d8576b"
             ],
             [
              0.6666666666666666,
              "#ed7953"
             ],
             [
              0.7777777777777778,
              "#fb9f3a"
             ],
             [
              0.8888888888888888,
              "#fdca26"
             ],
             [
              1,
              "#f0f921"
             ]
            ],
            "type": "contour"
           }
          ],
          "contourcarpet": [
           {
            "colorbar": {
             "outlinewidth": 0,
             "ticks": ""
            },
            "type": "contourcarpet"
           }
          ],
          "heatmap": [
           {
            "colorbar": {
             "outlinewidth": 0,
             "ticks": ""
            },
            "colorscale": [
             [
              0,
              "#0d0887"
             ],
             [
              0.1111111111111111,
              "#46039f"
             ],
             [
              0.2222222222222222,
              "#7201a8"
             ],
             [
              0.3333333333333333,
              "#9c179e"
             ],
             [
              0.4444444444444444,
              "#bd3786"
             ],
             [
              0.5555555555555556,
              "#d8576b"
             ],
             [
              0.6666666666666666,
              "#ed7953"
             ],
             [
              0.7777777777777778,
              "#fb9f3a"
             ],
             [
              0.8888888888888888,
              "#fdca26"
             ],
             [
              1,
              "#f0f921"
             ]
            ],
            "type": "heatmap"
           }
          ],
          "heatmapgl": [
           {
            "colorbar": {
             "outlinewidth": 0,
             "ticks": ""
            },
            "colorscale": [
             [
              0,
              "#0d0887"
             ],
             [
              0.1111111111111111,
              "#46039f"
             ],
             [
              0.2222222222222222,
              "#7201a8"
             ],
             [
              0.3333333333333333,
              "#9c179e"
             ],
             [
              0.4444444444444444,
              "#bd3786"
             ],
             [
              0.5555555555555556,
              "#d8576b"
             ],
             [
              0.6666666666666666,
              "#ed7953"
             ],
             [
              0.7777777777777778,
              "#fb9f3a"
             ],
             [
              0.8888888888888888,
              "#fdca26"
             ],
             [
              1,
              "#f0f921"
             ]
            ],
            "type": "heatmapgl"
           }
          ],
          "histogram": [
           {
            "marker": {
             "pattern": {
              "fillmode": "overlay",
              "size": 10,
              "solidity": 0.2
             }
            },
            "type": "histogram"
           }
          ],
          "histogram2d": [
           {
            "colorbar": {
             "outlinewidth": 0,
             "ticks": ""
            },
            "colorscale": [
             [
              0,
              "#0d0887"
             ],
             [
              0.1111111111111111,
              "#46039f"
             ],
             [
              0.2222222222222222,
              "#7201a8"
             ],
             [
              0.3333333333333333,
              "#9c179e"
             ],
             [
              0.4444444444444444,
              "#bd3786"
             ],
             [
              0.5555555555555556,
              "#d8576b"
             ],
             [
              0.6666666666666666,
              "#ed7953"
             ],
             [
              0.7777777777777778,
              "#fb9f3a"
             ],
             [
              0.8888888888888888,
              "#fdca26"
             ],
             [
              1,
              "#f0f921"
             ]
            ],
            "type": "histogram2d"
           }
          ],
          "histogram2dcontour": [
           {
            "colorbar": {
             "outlinewidth": 0,
             "ticks": ""
            },
            "colorscale": [
             [
              0,
              "#0d0887"
             ],
             [
              0.1111111111111111,
              "#46039f"
             ],
             [
              0.2222222222222222,
              "#7201a8"
             ],
             [
              0.3333333333333333,
              "#9c179e"
             ],
             [
              0.4444444444444444,
              "#bd3786"
             ],
             [
              0.5555555555555556,
              "#d8576b"
             ],
             [
              0.6666666666666666,
              "#ed7953"
             ],
             [
              0.7777777777777778,
              "#fb9f3a"
             ],
             [
              0.8888888888888888,
              "#fdca26"
             ],
             [
              1,
              "#f0f921"
             ]
            ],
            "type": "histogram2dcontour"
           }
          ],
          "mesh3d": [
           {
            "colorbar": {
             "outlinewidth": 0,
             "ticks": ""
            },
            "type": "mesh3d"
           }
          ],
          "parcoords": [
           {
            "line": {
             "colorbar": {
              "outlinewidth": 0,
              "ticks": ""
             }
            },
            "type": "parcoords"
           }
          ],
          "pie": [
           {
            "automargin": true,
            "type": "pie"
           }
          ],
          "scatter": [
           {
            "fillpattern": {
             "fillmode": "overlay",
             "size": 10,
             "solidity": 0.2
            },
            "type": "scatter"
           }
          ],
          "scatter3d": [
           {
            "line": {
             "colorbar": {
              "outlinewidth": 0,
              "ticks": ""
             }
            },
            "marker": {
             "colorbar": {
              "outlinewidth": 0,
              "ticks": ""
             }
            },
            "type": "scatter3d"
           }
          ],
          "scattercarpet": [
           {
            "marker": {
             "colorbar": {
              "outlinewidth": 0,
              "ticks": ""
             }
            },
            "type": "scattercarpet"
           }
          ],
          "scattergeo": [
           {
            "marker": {
             "colorbar": {
              "outlinewidth": 0,
              "ticks": ""
             }
            },
            "type": "scattergeo"
           }
          ],
          "scattergl": [
           {
            "marker": {
             "colorbar": {
              "outlinewidth": 0,
              "ticks": ""
             }
            },
            "type": "scattergl"
           }
          ],
          "scattermapbox": [
           {
            "marker": {
             "colorbar": {
              "outlinewidth": 0,
              "ticks": ""
             }
            },
            "type": "scattermapbox"
           }
          ],
          "scatterpolar": [
           {
            "marker": {
             "colorbar": {
              "outlinewidth": 0,
              "ticks": ""
             }
            },
            "type": "scatterpolar"
           }
          ],
          "scatterpolargl": [
           {
            "marker": {
             "colorbar": {
              "outlinewidth": 0,
              "ticks": ""
             }
            },
            "type": "scatterpolargl"
           }
          ],
          "scatterternary": [
           {
            "marker": {
             "colorbar": {
              "outlinewidth": 0,
              "ticks": ""
             }
            },
            "type": "scatterternary"
           }
          ],
          "surface": [
           {
            "colorbar": {
             "outlinewidth": 0,
             "ticks": ""
            },
            "colorscale": [
             [
              0,
              "#0d0887"
             ],
             [
              0.1111111111111111,
              "#46039f"
             ],
             [
              0.2222222222222222,
              "#7201a8"
             ],
             [
              0.3333333333333333,
              "#9c179e"
             ],
             [
              0.4444444444444444,
              "#bd3786"
             ],
             [
              0.5555555555555556,
              "#d8576b"
             ],
             [
              0.6666666666666666,
              "#ed7953"
             ],
             [
              0.7777777777777778,
              "#fb9f3a"
             ],
             [
              0.8888888888888888,
              "#fdca26"
             ],
             [
              1,
              "#f0f921"
             ]
            ],
            "type": "surface"
           }
          ],
          "table": [
           {
            "cells": {
             "fill": {
              "color": "#EBF0F8"
             },
             "line": {
              "color": "white"
             }
            },
            "header": {
             "fill": {
              "color": "#C8D4E3"
             },
             "line": {
              "color": "white"
             }
            },
            "type": "table"
           }
          ]
         },
         "layout": {
          "annotationdefaults": {
           "arrowcolor": "#2a3f5f",
           "arrowhead": 0,
           "arrowwidth": 1
          },
          "autotypenumbers": "strict",
          "coloraxis": {
           "colorbar": {
            "outlinewidth": 0,
            "ticks": ""
           }
          },
          "colorscale": {
           "diverging": [
            [
             0,
             "#8e0152"
            ],
            [
             0.1,
             "#c51b7d"
            ],
            [
             0.2,
             "#de77ae"
            ],
            [
             0.3,
             "#f1b6da"
            ],
            [
             0.4,
             "#fde0ef"
            ],
            [
             0.5,
             "#f7f7f7"
            ],
            [
             0.6,
             "#e6f5d0"
            ],
            [
             0.7,
             "#b8e186"
            ],
            [
             0.8,
             "#7fbc41"
            ],
            [
             0.9,
             "#4d9221"
            ],
            [
             1,
             "#276419"
            ]
           ],
           "sequential": [
            [
             0,
             "#0d0887"
            ],
            [
             0.1111111111111111,
             "#46039f"
            ],
            [
             0.2222222222222222,
             "#7201a8"
            ],
            [
             0.3333333333333333,
             "#9c179e"
            ],
            [
             0.4444444444444444,
             "#bd3786"
            ],
            [
             0.5555555555555556,
             "#d8576b"
            ],
            [
             0.6666666666666666,
             "#ed7953"
            ],
            [
             0.7777777777777778,
             "#fb9f3a"
            ],
            [
             0.8888888888888888,
             "#fdca26"
            ],
            [
             1,
             "#f0f921"
            ]
           ],
           "sequentialminus": [
            [
             0,
             "#0d0887"
            ],
            [
             0.1111111111111111,
             "#46039f"
            ],
            [
             0.2222222222222222,
             "#7201a8"
            ],
            [
             0.3333333333333333,
             "#9c179e"
            ],
            [
             0.4444444444444444,
             "#bd3786"
            ],
            [
             0.5555555555555556,
             "#d8576b"
            ],
            [
             0.6666666666666666,
             "#ed7953"
            ],
            [
             0.7777777777777778,
             "#fb9f3a"
            ],
            [
             0.8888888888888888,
             "#fdca26"
            ],
            [
             1,
             "#f0f921"
            ]
           ]
          },
          "colorway": [
           "#636efa",
           "#EF553B",
           "#00cc96",
           "#ab63fa",
           "#FFA15A",
           "#19d3f3",
           "#FF6692",
           "#B6E880",
           "#FF97FF",
           "#FECB52"
          ],
          "font": {
           "color": "#2a3f5f"
          },
          "geo": {
           "bgcolor": "white",
           "lakecolor": "white",
           "landcolor": "#E5ECF6",
           "showlakes": true,
           "showland": true,
           "subunitcolor": "white"
          },
          "hoverlabel": {
           "align": "left"
          },
          "hovermode": "closest",
          "mapbox": {
           "style": "light"
          },
          "paper_bgcolor": "white",
          "plot_bgcolor": "#E5ECF6",
          "polar": {
           "angularaxis": {
            "gridcolor": "white",
            "linecolor": "white",
            "ticks": ""
           },
           "bgcolor": "#E5ECF6",
           "radialaxis": {
            "gridcolor": "white",
            "linecolor": "white",
            "ticks": ""
           }
          },
          "scene": {
           "xaxis": {
            "backgroundcolor": "#E5ECF6",
            "gridcolor": "white",
            "gridwidth": 2,
            "linecolor": "white",
            "showbackground": true,
            "ticks": "",
            "zerolinecolor": "white"
           },
           "yaxis": {
            "backgroundcolor": "#E5ECF6",
            "gridcolor": "white",
            "gridwidth": 2,
            "linecolor": "white",
            "showbackground": true,
            "ticks": "",
            "zerolinecolor": "white"
           },
           "zaxis": {
            "backgroundcolor": "#E5ECF6",
            "gridcolor": "white",
            "gridwidth": 2,
            "linecolor": "white",
            "showbackground": true,
            "ticks": "",
            "zerolinecolor": "white"
           }
          },
          "shapedefaults": {
           "line": {
            "color": "#2a3f5f"
           }
          },
          "ternary": {
           "aaxis": {
            "gridcolor": "white",
            "linecolor": "white",
            "ticks": ""
           },
           "baxis": {
            "gridcolor": "white",
            "linecolor": "white",
            "ticks": ""
           },
           "bgcolor": "#E5ECF6",
           "caxis": {
            "gridcolor": "white",
            "linecolor": "white",
            "ticks": ""
           }
          },
          "title": {
           "x": 0.05
          },
          "xaxis": {
           "automargin": true,
           "gridcolor": "white",
           "linecolor": "white",
           "ticks": "",
           "title": {
            "standoff": 15
           },
           "zerolinecolor": "white",
           "zerolinewidth": 2
          },
          "yaxis": {
           "automargin": true,
           "gridcolor": "white",
           "linecolor": "white",
           "ticks": "",
           "title": {
            "standoff": 15
           },
           "zerolinecolor": "white",
           "zerolinewidth": 2
          }
         }
        },
        "title": {
         "text": "Dolly-2: Tokens per Second vs. Output Tokens"
        },
        "xaxis": {
         "anchor": "y",
         "domain": [
          0,
          1
         ],
         "title": {
          "text": "output_tokens"
         }
        },
        "yaxis": {
         "anchor": "x",
         "domain": [
          0,
          1
         ],
         "title": {
          "text": "tokens_per_second"
         }
        }
       }
      },
      "text/html": [
       "<div>                            <div id=\"71f38548-60e7-498f-b698-bb12f32553c7\" class=\"plotly-graph-div\" style=\"height:525px; width:100%;\"></div>            <script type=\"text/javascript\">                require([\"plotly\"], function(Plotly) {                    window.PLOTLYENV=window.PLOTLYENV || {};                                    if (document.getElementById(\"71f38548-60e7-498f-b698-bb12f32553c7\")) {                    Plotly.newPlot(                        \"71f38548-60e7-498f-b698-bb12f32553c7\",                        [{\"hovertemplate\":\"grouping=dolly-v2-12b_4bit<br>output_tokens=%{x}<br>tokens_per_second=%{y}<extra></extra>\",\"legendgroup\":\"dolly-v2-12b_4bit\",\"marker\":{\"color\":\"#636efa\",\"symbol\":\"circle\",\"size\":12},\"mode\":\"markers\",\"name\":\"dolly-v2-12b_4bit\",\"orientation\":\"v\",\"showlegend\":true,\"x\":[64,170,277,384,490,597,704,810,917,1024],\"xaxis\":\"x\",\"y\":[7.58,6.01,5.73,5.61,5.55,5.5,5.47,5.44,5.42,5.4],\"yaxis\":\"y\",\"type\":\"scatter\"},{\"hovertemplate\":\"<b>OLS trendline</b><br>tokens_per_second = -1.59259 * log10(output_tokens) + 9.95289<br>R<sup>2</sup>=0.824095<br><br>grouping=dolly-v2-12b_4bit<br>output_tokens=%{x}<br>tokens_per_second=%{y} <b>(trend)</b><extra></extra>\",\"legendgroup\":\"dolly-v2-12b_4bit\",\"marker\":{\"color\":\"#636efa\",\"symbol\":\"circle\",\"size\":12},\"mode\":\"lines\",\"name\":\"dolly-v2-12b_4bit\",\"showlegend\":false,\"x\":[64,170,277,384,490,597,704,810,917,1024],\"xaxis\":\"x\",\"y\":[7.076375076002563,6.400687192681795,6.063008285112341,5.837096607700293,5.668496947793685,5.531887079743603,5.417860062208272,5.320851446161255,5.235035644225832,5.1587016583703384],\"yaxis\":\"y\",\"type\":\"scatter\"},{\"hovertemplate\":\"grouping=dolly-v2-7b_4bit<br>output_tokens=%{x}<br>tokens_per_second=%{y}<extra></extra>\",\"legendgroup\":\"dolly-v2-7b_4bit\",\"marker\":{\"color\":\"#EF553B\",\"symbol\":\"circle\",\"size\":12},\"mode\":\"markers\",\"name\":\"dolly-v2-7b_4bit\",\"orientation\":\"v\",\"showlegend\":true,\"x\":[64,170,277,384,490,597,704,810,917,1024],\"xaxis\":\"x\",\"y\":[12.65,10.07,9.59,9.39,9.28,9.2,9.15,9.1,9.07,9.04],\"yaxis\":\"y\",\"type\":\"scatter\"},{\"hovertemplate\":\"<b>OLS trendline</b><br>tokens_per_second = -2.64829 * log10(output_tokens) + 16.608<br>R<sup>2</sup>=0.827761<br><br>grouping=dolly-v2-7b_4bit<br>output_tokens=%{x}<br>tokens_per_second=%{y} <b>(trend)</b><extra></extra>\",\"legendgroup\":\"dolly-v2-7b_4bit\",\"marker\":{\"color\":\"#EF553B\",\"symbol\":\"circle\",\"size\":12},\"mode\":\"lines\",\"name\":\"dolly-v2-7b_4bit\",\"showlegend\":false,\"x\":[64,170,277,384,490,597,704,810,917,1024],\"xaxis\":\"x\",\"y\":[11.82467992985449,10.701093189052205,10.139574250265017,9.763910616805898,9.483549895456527,9.256384305851078,9.06677124905588,8.905457723351788,8.762756485715144,8.635822354591905],\"yaxis\":\"y\",\"type\":\"scatter\"},{\"hovertemplate\":\"grouping=dolly-v2-7b_8bit<br>output_tokens=%{x}<br>tokens_per_second=%{y}<extra></extra>\",\"legendgroup\":\"dolly-v2-7b_8bit\",\"marker\":{\"color\":\"#00cc96\",\"symbol\":\"circle\",\"size\":12},\"mode\":\"markers\",\"name\":\"dolly-v2-7b_8bit\",\"orientation\":\"v\",\"showlegend\":true,\"x\":[64,170,277,384,490,597,704,810,917,1024],\"xaxis\":\"x\",\"y\":[24.62,19.91,18.9,18.55,18.3,18.03,17.85,17.81,17.78,17.61],\"yaxis\":\"y\",\"type\":\"scatter\"},{\"hovertemplate\":\"<b>OLS trendline</b><br>tokens_per_second = -5.19892 * log10(output_tokens) + 32.5875<br>R<sup>2</sup>=0.861387<br><br>grouping=dolly-v2-7b_8bit<br>output_tokens=%{x}<br>tokens_per_second=%{y} <b>(trend)</b><extra></extra>\",\"legendgroup\":\"dolly-v2-7b_8bit\",\"marker\":{\"color\":\"#00cc96\",\"symbol\":\"circle\",\"size\":12},\"mode\":\"lines\",\"name\":\"dolly-v2-7b_8bit\",\"showlegend\":false,\"x\":[64,170,277,384,490,597,704,810,917,1024],\"xaxis\":\"x\",\"y\":[23.19731425901015,20.99157395894828,19.889242552254665,19.15176818957503,18.601385278155878,18.155431016162474,17.783197039378045,17.46651855638303,17.186378306152683,16.937190843979586],\"yaxis\":\"y\",\"type\":\"scatter\"},{\"hovertemplate\":\"grouping=dolly-v2-3b_8bit<br>output_tokens=%{x}<br>tokens_per_second=%{y}<extra></extra>\",\"legendgroup\":\"dolly-v2-3b_8bit\",\"marker\":{\"color\":\"#ab63fa\",\"symbol\":\"circle\",\"size\":12},\"mode\":\"markers\",\"name\":\"dolly-v2-3b_8bit\",\"orientation\":\"v\",\"showlegend\":true,\"x\":[64,170,277,384,490,597,704,810,917,1024],\"xaxis\":\"x\",\"y\":[27.58,22.54,21.4,21.05,20.7,20.48,20.45,20.4,20.18,20.21],\"yaxis\":\"y\",\"type\":\"scatter\"},{\"hovertemplate\":\"<b>OLS trendline</b><br>tokens_per_second = -5.50352 * log10(output_tokens) + 35.9503<br>R<sup>2</sup>=0.849304<br><br>grouping=dolly-v2-3b_8bit<br>output_tokens=%{x}<br>tokens_per_second=%{y} <b>(trend)</b><extra></extra>\",\"legendgroup\":\"dolly-v2-3b_8bit\",\"marker\":{\"color\":\"#ab63fa\",\"symbol\":\"circle\",\"size\":12},\"mode\":\"lines\",\"name\":\"dolly-v2-3b_8bit\",\"showlegend\":false,\"x\":[64,170,277,384,490,597,704,810,917,1024],\"xaxis\":\"x\",\"y\":[26.009976748142442,23.675006219981704,22.508091263210332,21.727409647118552,21.144780822985908,20.67269892892383,20.27865645468181,19.94342436744322,19.64687122017512,19.383084327336906],\"yaxis\":\"y\",\"type\":\"scatter\"},{\"hovertemplate\":\"grouping=dolly-v2-12b_8bit<br>output_tokens=%{x}<br>tokens_per_second=%{y}<extra></extra>\",\"legendgroup\":\"dolly-v2-12b_8bit\",\"marker\":{\"color\":\"#FFA15A\",\"symbol\":\"circle\",\"size\":12},\"mode\":\"markers\",\"name\":\"dolly-v2-12b_8bit\",\"orientation\":\"v\",\"showlegend\":true,\"x\":[64,170,277,384,490,597,704,810,917,1024],\"xaxis\":\"x\",\"y\":[23.46,19.1,18.17,17.66,17.41,17.22,17.12,16.95,16.7,16.71],\"yaxis\":\"y\",\"type\":\"scatter\"},{\"hovertemplate\":\"<b>OLS trendline</b><br>tokens_per_second = -5.08292 * log10(output_tokens) + 31.3969<br>R<sup>2</sup>=0.886139<br><br>grouping=dolly-v2-12b_8bit<br>output_tokens=%{x}<br>tokens_per_second=%{y} <b>(trend)</b><extra></extra>\",\"legendgroup\":\"dolly-v2-12b_8bit\",\"marker\":{\"color\":\"#FFA15A\",\"symbol\":\"circle\",\"size\":12},\"mode\":\"lines\",\"name\":\"dolly-v2-12b_8bit\",\"showlegend\":false,\"x\":[64,170,277,384,490,597,704,810,917,1024],\"xaxis\":\"x\",\"y\":[22.216231328769492,20.059707828580187,18.981972800814294,18.260953742559273,17.722851554126336,17.286847893146216,16.92291959275563,16.61330717348583,16.339417707462243,16.09579037830035],\"yaxis\":\"y\",\"type\":\"scatter\"},{\"hovertemplate\":\"grouping=dolly-v2-3b_4bit<br>output_tokens=%{x}<br>tokens_per_second=%{y}<extra></extra>\",\"legendgroup\":\"dolly-v2-3b_4bit\",\"marker\":{\"color\":\"#19d3f3\",\"symbol\":\"circle\",\"size\":12},\"mode\":\"markers\",\"name\":\"dolly-v2-3b_4bit\",\"orientation\":\"v\",\"showlegend\":true,\"x\":[64,170,277,384,490,597,704,810,917,1024],\"xaxis\":\"x\",\"y\":[27.2,21.73,20.7,20.28,20.05,19.92,19.81,19.74,19.65,19.54],\"yaxis\":\"y\",\"type\":\"scatter\"},{\"hovertemplate\":\"<b>OLS trendline</b><br>tokens_per_second = -5.58029 * log10(output_tokens) + 35.5149<br>R<sup>2</sup>=0.823434<br><br>grouping=dolly-v2-3b_4bit<br>output_tokens=%{x}<br>tokens_per_second=%{y} <b>(trend)</b><extra></extra>\",\"legendgroup\":\"dolly-v2-3b_4bit\",\"marker\":{\"color\":\"#19d3f3\",\"symbol\":\"circle\",\"size\":12},\"mode\":\"lines\",\"name\":\"dolly-v2-3b_4bit\",\"showlegend\":false,\"x\":[64,170,277,384,490,597,704,810,917,1024],\"xaxis\":\"x\",\"y\":[25.435906995328324,23.06836253014399,21.885168560916,21.09359606911879,20.50283929887439,20.024171640366163,19.624632088287065,19.284723355769103,18.98403315262524,18.716566308570798],\"yaxis\":\"y\",\"type\":\"scatter\"}],                        {\"template\":{\"data\":{\"histogram2dcontour\":[{\"type\":\"histogram2dcontour\",\"colorbar\":{\"outlinewidth\":0,\"ticks\":\"\"},\"colorscale\":[[0.0,\"#0d0887\"],[0.1111111111111111,\"#46039f\"],[0.2222222222222222,\"#7201a8\"],[0.3333333333333333,\"#9c179e\"],[0.4444444444444444,\"#bd3786\"],[0.5555555555555556,\"#d8576b\"],[0.6666666666666666,\"#ed7953\"],[0.7777777777777778,\"#fb9f3a\"],[0.8888888888888888,\"#fdca26\"],[1.0,\"#f0f921\"]]}],\"choropleth\":[{\"type\":\"choropleth\",\"colorbar\":{\"outlinewidth\":0,\"ticks\":\"\"}}],\"histogram2d\":[{\"type\":\"histogram2d\",\"colorbar\":{\"outlinewidth\":0,\"ticks\":\"\"},\"colorscale\":[[0.0,\"#0d0887\"],[0.1111111111111111,\"#46039f\"],[0.2222222222222222,\"#7201a8\"],[0.3333333333333333,\"#9c179e\"],[0.4444444444444444,\"#bd3786\"],[0.5555555555555556,\"#d8576b\"],[0.6666666666666666,\"#ed7953\"],[0.7777777777777778,\"#fb9f3a\"],[0.8888888888888888,\"#fdca26\"],[1.0,\"#f0f921\"]]}],\"heatmap\":[{\"type\":\"heatmap\",\"colorbar\":{\"outlinewidth\":0,\"ticks\":\"\"},\"colorscale\":[[0.0,\"#0d0887\"],[0.1111111111111111,\"#46039f\"],[0.2222222222222222,\"#7201a8\"],[0.3333333333333333,\"#9c179e\"],[0.4444444444444444,\"#bd3786\"],[0.5555555555555556,\"#d8576b\"],[0.6666666666666666,\"#ed7953\"],[0.7777777777777778,\"#fb9f3a\"],[0.8888888888888888,\"#fdca26\"],[1.0,\"#f0f921\"]]}],\"heatmapgl\":[{\"type\":\"heatmapgl\",\"colorbar\":{\"outlinewidth\":0,\"ticks\":\"\"},\"colorscale\":[[0.0,\"#0d0887\"],[0.1111111111111111,\"#46039f\"],[0.2222222222222222,\"#7201a8\"],[0.3333333333333333,\"#9c179e\"],[0.4444444444444444,\"#bd3786\"],[0.5555555555555556,\"#d8576b\"],[0.6666666666666666,\"#ed7953\"],[0.7777777777777778,\"#fb9f3a\"],[0.8888888888888888,\"#fdca26\"],[1.0,\"#f0f921\"]]}],\"contourcarpet\":[{\"type\":\"contourcarpet\",\"colorbar\":{\"outlinewidth\":0,\"ticks\":\"\"}}],\"contour\":[{\"type\":\"contour\",\"colorbar\":{\"outlinewidth\":0,\"ticks\":\"\"},\"colorscale\":[[0.0,\"#0d0887\"],[0.1111111111111111,\"#46039f\"],[0.2222222222222222,\"#7201a8\"],[0.3333333333333333,\"#9c179e\"],[0.4444444444444444,\"#bd3786\"],[0.5555555555555556,\"#d8576b\"],[0.6666666666666666,\"#ed7953\"],[0.7777777777777778,\"#fb9f3a\"],[0.8888888888888888,\"#fdca26\"],[1.0,\"#f0f921\"]]}],\"surface\":[{\"type\":\"surface\",\"colorbar\":{\"outlinewidth\":0,\"ticks\":\"\"},\"colorscale\":[[0.0,\"#0d0887\"],[0.1111111111111111,\"#46039f\"],[0.2222222222222222,\"#7201a8\"],[0.3333333333333333,\"#9c179e\"],[0.4444444444444444,\"#bd3786\"],[0.5555555555555556,\"#d8576b\"],[0.6666666666666666,\"#ed7953\"],[0.7777777777777778,\"#fb9f3a\"],[0.8888888888888888,\"#fdca26\"],[1.0,\"#f0f921\"]]}],\"mesh3d\":[{\"type\":\"mesh3d\",\"colorbar\":{\"outlinewidth\":0,\"ticks\":\"\"}}],\"scatter\":[{\"fillpattern\":{\"fillmode\":\"overlay\",\"size\":10,\"solidity\":0.2},\"type\":\"scatter\"}],\"parcoords\":[{\"type\":\"parcoords\",\"line\":{\"colorbar\":{\"outlinewidth\":0,\"ticks\":\"\"}}}],\"scatterpolargl\":[{\"type\":\"scatterpolargl\",\"marker\":{\"colorbar\":{\"outlinewidth\":0,\"ticks\":\"\"}}}],\"bar\":[{\"error_x\":{\"color\":\"#2a3f5f\"},\"error_y\":{\"color\":\"#2a3f5f\"},\"marker\":{\"line\":{\"color\":\"#E5ECF6\",\"width\":0.5},\"pattern\":{\"fillmode\":\"overlay\",\"size\":10,\"solidity\":0.2}},\"type\":\"bar\"}],\"scattergeo\":[{\"type\":\"scattergeo\",\"marker\":{\"colorbar\":{\"outlinewidth\":0,\"ticks\":\"\"}}}],\"scatterpolar\":[{\"type\":\"scatterpolar\",\"marker\":{\"colorbar\":{\"outlinewidth\":0,\"ticks\":\"\"}}}],\"histogram\":[{\"marker\":{\"pattern\":{\"fillmode\":\"overlay\",\"size\":10,\"solidity\":0.2}},\"type\":\"histogram\"}],\"scattergl\":[{\"type\":\"scattergl\",\"marker\":{\"colorbar\":{\"outlinewidth\":0,\"ticks\":\"\"}}}],\"scatter3d\":[{\"type\":\"scatter3d\",\"line\":{\"colorbar\":{\"outlinewidth\":0,\"ticks\":\"\"}},\"marker\":{\"colorbar\":{\"outlinewidth\":0,\"ticks\":\"\"}}}],\"scattermapbox\":[{\"type\":\"scattermapbox\",\"marker\":{\"colorbar\":{\"outlinewidth\":0,\"ticks\":\"\"}}}],\"scatterternary\":[{\"type\":\"scatterternary\",\"marker\":{\"colorbar\":{\"outlinewidth\":0,\"ticks\":\"\"}}}],\"scattercarpet\":[{\"type\":\"scattercarpet\",\"marker\":{\"colorbar\":{\"outlinewidth\":0,\"ticks\":\"\"}}}],\"carpet\":[{\"aaxis\":{\"endlinecolor\":\"#2a3f5f\",\"gridcolor\":\"white\",\"linecolor\":\"white\",\"minorgridcolor\":\"white\",\"startlinecolor\":\"#2a3f5f\"},\"baxis\":{\"endlinecolor\":\"#2a3f5f\",\"gridcolor\":\"white\",\"linecolor\":\"white\",\"minorgridcolor\":\"white\",\"startlinecolor\":\"#2a3f5f\"},\"type\":\"carpet\"}],\"table\":[{\"cells\":{\"fill\":{\"color\":\"#EBF0F8\"},\"line\":{\"color\":\"white\"}},\"header\":{\"fill\":{\"color\":\"#C8D4E3\"},\"line\":{\"color\":\"white\"}},\"type\":\"table\"}],\"barpolar\":[{\"marker\":{\"line\":{\"color\":\"#E5ECF6\",\"width\":0.5},\"pattern\":{\"fillmode\":\"overlay\",\"size\":10,\"solidity\":0.2}},\"type\":\"barpolar\"}],\"pie\":[{\"automargin\":true,\"type\":\"pie\"}]},\"layout\":{\"autotypenumbers\":\"strict\",\"colorway\":[\"#636efa\",\"#EF553B\",\"#00cc96\",\"#ab63fa\",\"#FFA15A\",\"#19d3f3\",\"#FF6692\",\"#B6E880\",\"#FF97FF\",\"#FECB52\"],\"font\":{\"color\":\"#2a3f5f\"},\"hovermode\":\"closest\",\"hoverlabel\":{\"align\":\"left\"},\"paper_bgcolor\":\"white\",\"plot_bgcolor\":\"#E5ECF6\",\"polar\":{\"bgcolor\":\"#E5ECF6\",\"angularaxis\":{\"gridcolor\":\"white\",\"linecolor\":\"white\",\"ticks\":\"\"},\"radialaxis\":{\"gridcolor\":\"white\",\"linecolor\":\"white\",\"ticks\":\"\"}},\"ternary\":{\"bgcolor\":\"#E5ECF6\",\"aaxis\":{\"gridcolor\":\"white\",\"linecolor\":\"white\",\"ticks\":\"\"},\"baxis\":{\"gridcolor\":\"white\",\"linecolor\":\"white\",\"ticks\":\"\"},\"caxis\":{\"gridcolor\":\"white\",\"linecolor\":\"white\",\"ticks\":\"\"}},\"coloraxis\":{\"colorbar\":{\"outlinewidth\":0,\"ticks\":\"\"}},\"colorscale\":{\"sequential\":[[0.0,\"#0d0887\"],[0.1111111111111111,\"#46039f\"],[0.2222222222222222,\"#7201a8\"],[0.3333333333333333,\"#9c179e\"],[0.4444444444444444,\"#bd3786\"],[0.5555555555555556,\"#d8576b\"],[0.6666666666666666,\"#ed7953\"],[0.7777777777777778,\"#fb9f3a\"],[0.8888888888888888,\"#fdca26\"],[1.0,\"#f0f921\"]],\"sequentialminus\":[[0.0,\"#0d0887\"],[0.1111111111111111,\"#46039f\"],[0.2222222222222222,\"#7201a8\"],[0.3333333333333333,\"#9c179e\"],[0.4444444444444444,\"#bd3786\"],[0.5555555555555556,\"#d8576b\"],[0.6666666666666666,\"#ed7953\"],[0.7777777777777778,\"#fb9f3a\"],[0.8888888888888888,\"#fdca26\"],[1.0,\"#f0f921\"]],\"diverging\":[[0,\"#8e0152\"],[0.1,\"#c51b7d\"],[0.2,\"#de77ae\"],[0.3,\"#f1b6da\"],[0.4,\"#fde0ef\"],[0.5,\"#f7f7f7\"],[0.6,\"#e6f5d0\"],[0.7,\"#b8e186\"],[0.8,\"#7fbc41\"],[0.9,\"#4d9221\"],[1,\"#276419\"]]},\"xaxis\":{\"gridcolor\":\"white\",\"linecolor\":\"white\",\"ticks\":\"\",\"title\":{\"standoff\":15},\"zerolinecolor\":\"white\",\"automargin\":true,\"zerolinewidth\":2},\"yaxis\":{\"gridcolor\":\"white\",\"linecolor\":\"white\",\"ticks\":\"\",\"title\":{\"standoff\":15},\"zerolinecolor\":\"white\",\"automargin\":true,\"zerolinewidth\":2},\"scene\":{\"xaxis\":{\"backgroundcolor\":\"#E5ECF6\",\"gridcolor\":\"white\",\"linecolor\":\"white\",\"showbackground\":true,\"ticks\":\"\",\"zerolinecolor\":\"white\",\"gridwidth\":2},\"yaxis\":{\"backgroundcolor\":\"#E5ECF6\",\"gridcolor\":\"white\",\"linecolor\":\"white\",\"showbackground\":true,\"ticks\":\"\",\"zerolinecolor\":\"white\",\"gridwidth\":2},\"zaxis\":{\"backgroundcolor\":\"#E5ECF6\",\"gridcolor\":\"white\",\"linecolor\":\"white\",\"showbackground\":true,\"ticks\":\"\",\"zerolinecolor\":\"white\",\"gridwidth\":2}},\"shapedefaults\":{\"line\":{\"color\":\"#2a3f5f\"}},\"annotationdefaults\":{\"arrowcolor\":\"#2a3f5f\",\"arrowhead\":0,\"arrowwidth\":1},\"geo\":{\"bgcolor\":\"white\",\"landcolor\":\"#E5ECF6\",\"subunitcolor\":\"white\",\"showland\":true,\"showlakes\":true,\"lakecolor\":\"white\"},\"title\":{\"x\":0.05},\"mapbox\":{\"style\":\"light\"}}},\"xaxis\":{\"anchor\":\"y\",\"domain\":[0.0,1.0],\"title\":{\"text\":\"output_tokens\"}},\"yaxis\":{\"anchor\":\"x\",\"domain\":[0.0,1.0],\"title\":{\"text\":\"tokens_per_second\"}},\"legend\":{\"title\":{\"text\":\"grouping\"},\"tracegroupgap\":0},\"margin\":{\"t\":60},\"title\":{\"text\":\"Dolly-2: Tokens per Second vs. Output Tokens\"}},                        {\"responsive\": true}                    ).then(function(){\n",
       "                            \n",
       "var gd = document.getElementById('71f38548-60e7-498f-b698-bb12f32553c7');\n",
       "var x = new MutationObserver(function (mutations, observer) {{\n",
       "        var display = window.getComputedStyle(gd).display;\n",
       "        if (!display || display === 'none') {{\n",
       "            console.log([gd, 'removed!']);\n",
       "            Plotly.purge(gd);\n",
       "            observer.disconnect();\n",
       "        }}\n",
       "}});\n",
       "\n",
       "// Listen for the removal of the full notebook cells\n",
       "var notebookContainer = gd.closest('#notebook-container');\n",
       "if (notebookContainer) {{\n",
       "    x.observe(notebookContainer, {childList: true});\n",
       "}}\n",
       "\n",
       "// Listen for the clearing of the current output cell\n",
       "var outputEl = gd.closest('.output');\n",
       "if (outputEl) {{\n",
       "    x.observe(outputEl, {childList: true});\n",
       "}}\n",
       "\n",
       "                        })                };                });            </script>        </div>"
      ]
     },
     "metadata": {},
     "output_type": "display_data"
    }
   ],
   "source": [
    "from llm_benchmarks.plotting import plot_model_inference_speed\n",
    "\n",
    "plot_model_inference_speed(\n",
    "    model_name=\"dolly\",\n",
    "    filters={},\n",
    "    grouping_columns=[\"model_name\", \"quantization_bits\"],\n",
    "    colors={},\n",
    "    title=\"Dolly-2: Tokens per Second vs. Output Tokens\",\n",
    "    results_dir=\"./results3\",\n",
    "    save_path=\"./dolly2_compare_size_and_quant_inference.png\",\n",
    ")"
   ]
  }
 ],
 "metadata": {
  "kernelspec": {
   "display_name": "dolly2",
   "language": "python",
   "name": "python3"
  },
  "language_info": {
   "codemirror_mode": {
    "name": "ipython",
    "version": 3
   },
   "file_extension": ".py",
   "mimetype": "text/x-python",
   "name": "python",
   "nbconvert_exporter": "python",
   "pygments_lexer": "ipython3",
   "version": "3.9.16"
  },
  "orig_nbformat": 4
 },
 "nbformat": 4,
 "nbformat_minor": 2
}
