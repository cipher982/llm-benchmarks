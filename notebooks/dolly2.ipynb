{
 "cells": [
  {
   "attachments": {},
   "cell_type": "markdown",
   "metadata": {},
   "source": [
    "## Benchmark"
   ]
  },
  {
   "cell_type": "code",
   "execution_count": null,
   "metadata": {},
   "outputs": [],
   "source": [
    "import os\n",
    "\n",
    "import torch\n",
    "\n",
    "from llm_benchmarks.generation import generate_samples\n",
    "from llm_benchmarks.utils import log_metrics_to_csv\n",
    "\n",
    "os.environ[\"WANDB_SILENT\"] = \"true\"\n",
    "\n",
    "config = {\n",
    "    \"load_in_8bit\": True,\n",
    "    \"torch_dtype\": torch.float16,\n",
    "    \"temperature\": 0.1,\n",
    "    \"min_length\": 700,\n",
    "    \"max_length\": 700,\n",
    "    \"try_different_lengths\": True,\n",
    "}\n",
    "\n",
    "model_names = [\"databricks/dolly-v2-3b\", \"databricks/dolly-v2-7b\", \"databricks/dolly-v2-12b\"]\n",
    "for model_name in model_names:\n",
    "    config[\"model_name\"] = model_name\n",
    "    metrics = generate_samples(model_name, config, 20)\n",
    "    log_metrics_to_csv(model_name, config, metrics, \"results\")"
   ]
  },
  {
   "attachments": {},
   "cell_type": "markdown",
   "metadata": {},
   "source": [
    "## Plot"
   ]
  },
  {
   "cell_type": "code",
   "execution_count": null,
   "metadata": {},
   "outputs": [],
   "source": [
    "# Load all csv files that contain 'dolly' in the filename and put into a single dataframe\n",
    "import glob\n",
    "\n",
    "import pandas as pd\n",
    "import plotly.express as px\n",
    "\n",
    "df = pd.concat([pd.read_csv(f) for f in glob.glob(\"./results/*dolly*.csv\")], ignore_index=True)\n",
    "\n",
    "# Remove outliers\n",
    "# df = df[df['tokens_per_second'] < 100]\n",
    "# df = df[df['output_tokens'] > 500]\n",
    "\n",
    "# Plot the DataFrame\n",
    "# colors = {True: 'blue', False: 'red'}\n",
    "fig = px.scatter(df, x=\"output_tokens\", y=\"tokens_per_second\", color=\"model_name\")\n",
    "fig.update_traces(marker=dict(size=12))\n",
    "fig.update_layout(xaxis_title=\"output_tokens\", yaxis_title=\"tokens_per_second\", title=\"Scatter Plot\")\n",
    "fig.update_layout(title=\"Dolly-v2: Tokens per Second vs. Output Tokens\")\n",
    "\n",
    "fig.show()\n",
    "\n",
    "fig.write_image(\"dolly_compare_8bit_inference.png\", format=\"png\", width=900, height=500, scale=5)"
   ]
  }
 ],
 "metadata": {
  "kernelspec": {
   "display_name": "dolly2",
   "language": "python",
   "name": "python3"
  },
  "language_info": {
   "codemirror_mode": {
    "name": "ipython",
    "version": 3
   },
   "file_extension": ".py",
   "mimetype": "text/x-python",
   "name": "python",
   "nbconvert_exporter": "python",
   "pygments_lexer": "ipython3",
   "version": "3.9.16"
  },
  "orig_nbformat": 4
 },
 "nbformat": 4,
 "nbformat_minor": 2
}
