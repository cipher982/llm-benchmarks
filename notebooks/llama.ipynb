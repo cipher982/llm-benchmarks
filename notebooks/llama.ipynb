{
 "cells": [
  {
   "attachments": {},
   "cell_type": "markdown",
   "metadata": {},
   "source": [
    "## Benchmark"
   ]
  },
  {
   "cell_type": "code",
   "execution_count": null,
   "metadata": {},
   "outputs": [],
   "source": [
    "import os\n",
    "\n",
    "import torch\n",
    "\n",
    "from llm_benchmarks.generation import generate_samples\n",
    "from llm_benchmarks.utils import log_metrics_to_csv\n",
    "\n",
    "os.environ[\"WANDB_SILENT\"] = \"true\"\n",
    "\n",
    "config = {\n",
    "    \"quantization_bits\": \"8bit\",\n",
    "    \"torch_dtype\": torch.float16,\n",
    "    \"temperature\": 0.1,\n",
    "}\n",
    "\n",
    "model_names = [\n",
    "    # \"decapoda-research/llama-7b-hf\",\n",
    "    # \"decapoda-research/llama-13b-hf\",\n",
    "    # \"decapoda-research/llama-30b-hf\",\n",
    "    # \"decapoda-research/llama-65b-hf\",\n",
    "]\n",
    "\n",
    "for model_name in model_names:\n",
    "    config[\"model_name\"] = model_name\n",
    "    metrics = generate_samples(model_name, config, llama=True)\n",
    "    log_metrics_to_csv(model_name, config, metrics, \"results\")"
   ]
  },
  {
   "attachments": {},
   "cell_type": "markdown",
   "metadata": {},
   "source": [
    "## Plot"
   ]
  },
  {
   "cell_type": "code",
   "execution_count": 5,
   "metadata": {},
   "outputs": [
    {
     "data": {
      "application/vnd.plotly.v1+json": {
       "config": {
        "plotlyServerURL": "https://plot.ly"
       },
       "data": [
        {
         "hovertemplate": "grouping=llama-7b-hf_8bit<br>output_tokens=%{x}<br>tokens_per_second=%{y}<extra></extra>",
         "legendgroup": "llama-7b-hf_8bit",
         "marker": {
          "color": "#636efa",
          "size": 12,
          "symbol": "circle"
         },
         "mode": "markers",
         "name": "llama-7b-hf_8bit",
         "orientation": "v",
         "showlegend": true,
         "type": "scatter",
         "x": [
          64,
          80,
          64,
          170,
          277,
          384,
          490,
          597,
          704,
          810,
          917,
          1024
         ],
         "xaxis": "x",
         "y": [
          23.66,
          26.17,
          24.01,
          20.34,
          16.3,
          15.64,
          18.56,
          16.79,
          16.77,
          16.23,
          16.16,
          16.35
         ],
         "yaxis": "y"
        },
        {
         "hovertemplate": "<b>OLS trendline</b><br>tokens_per_second = -7.35711 * log10(output_tokens) + 37.2879<br>R<sup>2</sup>=0.814191<br><br>grouping=llama-7b-hf_8bit<br>output_tokens=%{x}<br>tokens_per_second=%{y} <b>(trend)</b><extra></extra>",
         "legendgroup": "llama-7b-hf_8bit",
         "marker": {
          "color": "#636efa",
          "size": 12,
          "symbol": "circle"
         },
         "mode": "lines",
         "name": "llama-7b-hf_8bit",
         "showlegend": false,
         "type": "scatter",
         "x": [
          64,
          64,
          80,
          170,
          277,
          384,
          490,
          597,
          704,
          810,
          917,
          1024
         ],
         "xaxis": "x",
         "y": [
          23.999650022930524,
          23.999650022930524,
          23.286672462346317,
          20.87825699288592,
          19.318322865755807,
          18.274706200892666,
          17.495846883904523,
          16.86476691267407,
          16.338010185851736,
          15.889871295902626,
          15.49343848625617,
          15.140807667668962
         ],
         "yaxis": "y"
        },
        {
         "hovertemplate": "grouping=llama-30b-hf_4bit<br>output_tokens=%{x}<br>tokens_per_second=%{y}<extra></extra>",
         "legendgroup": "llama-30b-hf_4bit",
         "marker": {
          "color": "#EF553B",
          "size": 12,
          "symbol": "circle"
         },
         "mode": "markers",
         "name": "llama-30b-hf_4bit",
         "orientation": "v",
         "showlegend": true,
         "type": "scatter",
         "x": [
          64,
          80,
          1024,
          1024
         ],
         "xaxis": "x",
         "y": [
          3.12,
          2.84,
          2.02,
          2.02
         ],
         "yaxis": "y"
        },
        {
         "hovertemplate": "<b>OLS trendline</b><br>tokens_per_second = -0.837903 * log10(output_tokens) + 4.53817<br>R<sup>2</sup>=0.979361<br><br>grouping=llama-30b-hf_4bit<br>output_tokens=%{x}<br>tokens_per_second=%{y} <b>(trend)</b><extra></extra>",
         "legendgroup": "llama-30b-hf_4bit",
         "marker": {
          "color": "#EF553B",
          "size": 12,
          "symbol": "circle"
         },
         "mode": "lines",
         "name": "llama-30b-hf_4bit",
         "showlegend": false,
         "type": "scatter",
         "x": [
          64,
          80,
          1024,
          1024
         ],
         "xaxis": "x",
         "y": [
          3.0247682435067613,
          2.9435670415913995,
          2.015832357450921,
          2.015832357450921
         ],
         "yaxis": "y"
        },
        {
         "hovertemplate": "grouping=llama-13b-hf_8bit<br>output_tokens=%{x}<br>tokens_per_second=%{y}<extra></extra>",
         "legendgroup": "llama-13b-hf_8bit",
         "marker": {
          "color": "#00cc96",
          "size": 12,
          "symbol": "circle"
         },
         "mode": "markers",
         "name": "llama-13b-hf_8bit",
         "orientation": "v",
         "showlegend": true,
         "type": "scatter",
         "x": [
          64,
          170,
          277,
          384,
          490,
          597,
          704,
          810,
          917,
          1024,
          64,
          80
         ],
         "xaxis": "x",
         "y": [
          21.84,
          16.24,
          14.93,
          14.23,
          13.48,
          13.14,
          13.84,
          13.49,
          13.21,
          13.56,
          21.87,
          19.81
         ],
         "yaxis": "y"
        },
        {
         "hovertemplate": "<b>OLS trendline</b><br>tokens_per_second = -7.08945 * log10(output_tokens) + 33.5078<br>R<sup>2</sup>=0.906660<br><br>grouping=llama-13b-hf_8bit<br>output_tokens=%{x}<br>tokens_per_second=%{y} <b>(trend)</b><extra></extra>",
         "legendgroup": "llama-13b-hf_8bit",
         "marker": {
          "color": "#00cc96",
          "size": 12,
          "symbol": "circle"
         },
         "mode": "lines",
         "name": "llama-13b-hf_8bit",
         "showlegend": false,
         "type": "scatter",
         "x": [
          64,
          64,
          80,
          170,
          277,
          384,
          490,
          597,
          704,
          810,
          917,
          1024
         ],
         "xaxis": "x",
         "y": [
          20.7029963750963,
          20.7029963750963,
          20.015957977675317,
          17.69516417442273,
          16.191982725195064,
          15.186334356175013,
          14.435811076702553,
          13.82769071492934,
          13.320098165831162,
          12.888263222077288,
          12.506253216038068,
          12.166451620760807
         ],
         "yaxis": "y"
        },
        {
         "hovertemplate": "grouping=llama-7b-hf_4bit<br>output_tokens=%{x}<br>tokens_per_second=%{y}<extra></extra>",
         "legendgroup": "llama-7b-hf_4bit",
         "marker": {
          "color": "#ab63fa",
          "size": 12,
          "symbol": "circle"
         },
         "mode": "markers",
         "name": "llama-7b-hf_4bit",
         "orientation": "v",
         "showlegend": true,
         "type": "scatter",
         "x": [
          64,
          80,
          64,
          170,
          277,
          384,
          490,
          597,
          704,
          810,
          917,
          1024
         ],
         "xaxis": "x",
         "y": [
          14.73,
          13.22,
          14.7,
          10.71,
          10.06,
          9.76,
          9.62,
          9.56,
          9.5,
          9.45,
          9.4,
          9.37
         ],
         "yaxis": "y"
        },
        {
         "hovertemplate": "<b>OLS trendline</b><br>tokens_per_second = -4.32451 * log10(output_tokens) + 21.6396<br>R<sup>2</sup>=0.876327<br><br>grouping=llama-7b-hf_4bit<br>output_tokens=%{x}<br>tokens_per_second=%{y} <b>(trend)</b><extra></extra>",
         "legendgroup": "llama-7b-hf_4bit",
         "marker": {
          "color": "#ab63fa",
          "size": 12,
          "symbol": "circle"
         },
         "mode": "lines",
         "name": "llama-7b-hf_4bit",
         "showlegend": false,
         "type": "scatter",
         "x": [
          64,
          64,
          80,
          170,
          277,
          384,
          490,
          597,
          704,
          810,
          917,
          1024
         ],
         "xaxis": "x",
         "y": [
          13.828756842642594,
          13.828756842642594,
          13.409668694345905,
          11.994002290205197,
          11.07707314552343,
          10.463635360397788,
          10.005821921398773,
          9.63487316902375,
          9.325245610667062,
          9.061829610008337,
          8.828806438868625,
          8.621530074275935
         ],
         "yaxis": "y"
        },
        {
         "hovertemplate": "grouping=llama-13b-hf_4bit<br>output_tokens=%{x}<br>tokens_per_second=%{y}<extra></extra>",
         "legendgroup": "llama-13b-hf_4bit",
         "marker": {
          "color": "#FFA15A",
          "size": 12,
          "symbol": "circle"
         },
         "mode": "markers",
         "name": "llama-13b-hf_4bit",
         "orientation": "v",
         "showlegend": true,
         "type": "scatter",
         "x": [
          64,
          80,
          64,
          170,
          277,
          384,
          490,
          597,
          704,
          810,
          917,
          1024
         ],
         "xaxis": "x",
         "y": [
          7.82,
          6.98,
          7.8,
          5.68,
          5.33,
          5.19,
          5.12,
          5.06,
          5.03,
          5,
          4.98,
          4.96
         ],
         "yaxis": "y"
        },
        {
         "hovertemplate": "<b>OLS trendline</b><br>tokens_per_second = -2.2946 * log10(output_tokens) + 11.4761<br>R<sup>2</sup>=0.876993<br><br>grouping=llama-13b-hf_4bit<br>output_tokens=%{x}<br>tokens_per_second=%{y} <b>(trend)</b><extra></extra>",
         "legendgroup": "llama-13b-hf_4bit",
         "marker": {
          "color": "#FFA15A",
          "size": 12,
          "symbol": "circle"
         },
         "mode": "lines",
         "name": "llama-13b-hf_4bit",
         "showlegend": false,
         "type": "scatter",
         "x": [
          64,
          64,
          80,
          170,
          277,
          384,
          490,
          597,
          704,
          810,
          917,
          1024
         ],
         "xaxis": "x",
         "y": [
          7.331675659447964,
          7.331675659447964,
          7.109306373844166,
          6.35815001635346,
          5.871624974591032,
          5.546133255020391,
          5.303216227221366,
          5.106389833068942,
          4.9421006274809045,
          4.802331397257714,
          4.678688683174601,
          4.568707293091485
         ],
         "yaxis": "y"
        }
       ],
       "layout": {
        "legend": {
         "title": {
          "text": "grouping"
         },
         "tracegroupgap": 0
        },
        "margin": {
         "t": 60
        },
        "template": {
         "data": {
          "bar": [
           {
            "error_x": {
             "color": "#2a3f5f"
            },
            "error_y": {
             "color": "#2a3f5f"
            },
            "marker": {
             "line": {
              "color": "#E5ECF6",
              "width": 0.5
             },
             "pattern": {
              "fillmode": "overlay",
              "size": 10,
              "solidity": 0.2
             }
            },
            "type": "bar"
           }
          ],
          "barpolar": [
           {
            "marker": {
             "line": {
              "color": "#E5ECF6",
              "width": 0.5
             },
             "pattern": {
              "fillmode": "overlay",
              "size": 10,
              "solidity": 0.2
             }
            },
            "type": "barpolar"
           }
          ],
          "carpet": [
           {
            "aaxis": {
             "endlinecolor": "#2a3f5f",
             "gridcolor": "white",
             "linecolor": "white",
             "minorgridcolor": "white",
             "startlinecolor": "#2a3f5f"
            },
            "baxis": {
             "endlinecolor": "#2a3f5f",
             "gridcolor": "white",
             "linecolor": "white",
             "minorgridcolor": "white",
             "startlinecolor": "#2a3f5f"
            },
            "type": "carpet"
           }
          ],
          "choropleth": [
           {
            "colorbar": {
             "outlinewidth": 0,
             "ticks": ""
            },
            "type": "choropleth"
           }
          ],
          "contour": [
           {
            "colorbar": {
             "outlinewidth": 0,
             "ticks": ""
            },
            "colorscale": [
             [
              0,
              "#0d0887"
             ],
             [
              0.1111111111111111,
              "#46039f"
             ],
             [
              0.2222222222222222,
              "#7201a8"
             ],
             [
              0.3333333333333333,
              "#9c179e"
             ],
             [
              0.4444444444444444,
              "#bd3786"
             ],
             [
              0.5555555555555556,
              "#d8576b"
             ],
             [
              0.6666666666666666,
              "#ed7953"
             ],
             [
              0.7777777777777778,
              "#fb9f3a"
             ],
             [
              0.8888888888888888,
              "#fdca26"
             ],
             [
              1,
              "#f0f921"
             ]
            ],
            "type": "contour"
           }
          ],
          "contourcarpet": [
           {
            "colorbar": {
             "outlinewidth": 0,
             "ticks": ""
            },
            "type": "contourcarpet"
           }
          ],
          "heatmap": [
           {
            "colorbar": {
             "outlinewidth": 0,
             "ticks": ""
            },
            "colorscale": [
             [
              0,
              "#0d0887"
             ],
             [
              0.1111111111111111,
              "#46039f"
             ],
             [
              0.2222222222222222,
              "#7201a8"
             ],
             [
              0.3333333333333333,
              "#9c179e"
             ],
             [
              0.4444444444444444,
              "#bd3786"
             ],
             [
              0.5555555555555556,
              "#d8576b"
             ],
             [
              0.6666666666666666,
              "#ed7953"
             ],
             [
              0.7777777777777778,
              "#fb9f3a"
             ],
             [
              0.8888888888888888,
              "#fdca26"
             ],
             [
              1,
              "#f0f921"
             ]
            ],
            "type": "heatmap"
           }
          ],
          "heatmapgl": [
           {
            "colorbar": {
             "outlinewidth": 0,
             "ticks": ""
            },
            "colorscale": [
             [
              0,
              "#0d0887"
             ],
             [
              0.1111111111111111,
              "#46039f"
             ],
             [
              0.2222222222222222,
              "#7201a8"
             ],
             [
              0.3333333333333333,
              "#9c179e"
             ],
             [
              0.4444444444444444,
              "#bd3786"
             ],
             [
              0.5555555555555556,
              "#d8576b"
             ],
             [
              0.6666666666666666,
              "#ed7953"
             ],
             [
              0.7777777777777778,
              "#fb9f3a"
             ],
             [
              0.8888888888888888,
              "#fdca26"
             ],
             [
              1,
              "#f0f921"
             ]
            ],
            "type": "heatmapgl"
           }
          ],
          "histogram": [
           {
            "marker": {
             "pattern": {
              "fillmode": "overlay",
              "size": 10,
              "solidity": 0.2
             }
            },
            "type": "histogram"
           }
          ],
          "histogram2d": [
           {
            "colorbar": {
             "outlinewidth": 0,
             "ticks": ""
            },
            "colorscale": [
             [
              0,
              "#0d0887"
             ],
             [
              0.1111111111111111,
              "#46039f"
             ],
             [
              0.2222222222222222,
              "#7201a8"
             ],
             [
              0.3333333333333333,
              "#9c179e"
             ],
             [
              0.4444444444444444,
              "#bd3786"
             ],
             [
              0.5555555555555556,
              "#d8576b"
             ],
             [
              0.6666666666666666,
              "#ed7953"
             ],
             [
              0.7777777777777778,
              "#fb9f3a"
             ],
             [
              0.8888888888888888,
              "#fdca26"
             ],
             [
              1,
              "#f0f921"
             ]
            ],
            "type": "histogram2d"
           }
          ],
          "histogram2dcontour": [
           {
            "colorbar": {
             "outlinewidth": 0,
             "ticks": ""
            },
            "colorscale": [
             [
              0,
              "#0d0887"
             ],
             [
              0.1111111111111111,
              "#46039f"
             ],
             [
              0.2222222222222222,
              "#7201a8"
             ],
             [
              0.3333333333333333,
              "#9c179e"
             ],
             [
              0.4444444444444444,
              "#bd3786"
             ],
             [
              0.5555555555555556,
              "#d8576b"
             ],
             [
              0.6666666666666666,
              "#ed7953"
             ],
             [
              0.7777777777777778,
              "#fb9f3a"
             ],
             [
              0.8888888888888888,
              "#fdca26"
             ],
             [
              1,
              "#f0f921"
             ]
            ],
            "type": "histogram2dcontour"
           }
          ],
          "mesh3d": [
           {
            "colorbar": {
             "outlinewidth": 0,
             "ticks": ""
            },
            "type": "mesh3d"
           }
          ],
          "parcoords": [
           {
            "line": {
             "colorbar": {
              "outlinewidth": 0,
              "ticks": ""
             }
            },
            "type": "parcoords"
           }
          ],
          "pie": [
           {
            "automargin": true,
            "type": "pie"
           }
          ],
          "scatter": [
           {
            "fillpattern": {
             "fillmode": "overlay",
             "size": 10,
             "solidity": 0.2
            },
            "type": "scatter"
           }
          ],
          "scatter3d": [
           {
            "line": {
             "colorbar": {
              "outlinewidth": 0,
              "ticks": ""
             }
            },
            "marker": {
             "colorbar": {
              "outlinewidth": 0,
              "ticks": ""
             }
            },
            "type": "scatter3d"
           }
          ],
          "scattercarpet": [
           {
            "marker": {
             "colorbar": {
              "outlinewidth": 0,
              "ticks": ""
             }
            },
            "type": "scattercarpet"
           }
          ],
          "scattergeo": [
           {
            "marker": {
             "colorbar": {
              "outlinewidth": 0,
              "ticks": ""
             }
            },
            "type": "scattergeo"
           }
          ],
          "scattergl": [
           {
            "marker": {
             "colorbar": {
              "outlinewidth": 0,
              "ticks": ""
             }
            },
            "type": "scattergl"
           }
          ],
          "scattermapbox": [
           {
            "marker": {
             "colorbar": {
              "outlinewidth": 0,
              "ticks": ""
             }
            },
            "type": "scattermapbox"
           }
          ],
          "scatterpolar": [
           {
            "marker": {
             "colorbar": {
              "outlinewidth": 0,
              "ticks": ""
             }
            },
            "type": "scatterpolar"
           }
          ],
          "scatterpolargl": [
           {
            "marker": {
             "colorbar": {
              "outlinewidth": 0,
              "ticks": ""
             }
            },
            "type": "scatterpolargl"
           }
          ],
          "scatterternary": [
           {
            "marker": {
             "colorbar": {
              "outlinewidth": 0,
              "ticks": ""
             }
            },
            "type": "scatterternary"
           }
          ],
          "surface": [
           {
            "colorbar": {
             "outlinewidth": 0,
             "ticks": ""
            },
            "colorscale": [
             [
              0,
              "#0d0887"
             ],
             [
              0.1111111111111111,
              "#46039f"
             ],
             [
              0.2222222222222222,
              "#7201a8"
             ],
             [
              0.3333333333333333,
              "#9c179e"
             ],
             [
              0.4444444444444444,
              "#bd3786"
             ],
             [
              0.5555555555555556,
              "#d8576b"
             ],
             [
              0.6666666666666666,
              "#ed7953"
             ],
             [
              0.7777777777777778,
              "#fb9f3a"
             ],
             [
              0.8888888888888888,
              "#fdca26"
             ],
             [
              1,
              "#f0f921"
             ]
            ],
            "type": "surface"
           }
          ],
          "table": [
           {
            "cells": {
             "fill": {
              "color": "#EBF0F8"
             },
             "line": {
              "color": "white"
             }
            },
            "header": {
             "fill": {
              "color": "#C8D4E3"
             },
             "line": {
              "color": "white"
             }
            },
            "type": "table"
           }
          ]
         },
         "layout": {
          "annotationdefaults": {
           "arrowcolor": "#2a3f5f",
           "arrowhead": 0,
           "arrowwidth": 1
          },
          "autotypenumbers": "strict",
          "coloraxis": {
           "colorbar": {
            "outlinewidth": 0,
            "ticks": ""
           }
          },
          "colorscale": {
           "diverging": [
            [
             0,
             "#8e0152"
            ],
            [
             0.1,
             "#c51b7d"
            ],
            [
             0.2,
             "#de77ae"
            ],
            [
             0.3,
             "#f1b6da"
            ],
            [
             0.4,
             "#fde0ef"
            ],
            [
             0.5,
             "#f7f7f7"
            ],
            [
             0.6,
             "#e6f5d0"
            ],
            [
             0.7,
             "#b8e186"
            ],
            [
             0.8,
             "#7fbc41"
            ],
            [
             0.9,
             "#4d9221"
            ],
            [
             1,
             "#276419"
            ]
           ],
           "sequential": [
            [
             0,
             "#0d0887"
            ],
            [
             0.1111111111111111,
             "#46039f"
            ],
            [
             0.2222222222222222,
             "#7201a8"
            ],
            [
             0.3333333333333333,
             "#9c179e"
            ],
            [
             0.4444444444444444,
             "#bd3786"
            ],
            [
             0.5555555555555556,
             "#d8576b"
            ],
            [
             0.6666666666666666,
             "#ed7953"
            ],
            [
             0.7777777777777778,
             "#fb9f3a"
            ],
            [
             0.8888888888888888,
             "#fdca26"
            ],
            [
             1,
             "#f0f921"
            ]
           ],
           "sequentialminus": [
            [
             0,
             "#0d0887"
            ],
            [
             0.1111111111111111,
             "#46039f"
            ],
            [
             0.2222222222222222,
             "#7201a8"
            ],
            [
             0.3333333333333333,
             "#9c179e"
            ],
            [
             0.4444444444444444,
             "#bd3786"
            ],
            [
             0.5555555555555556,
             "#d8576b"
            ],
            [
             0.6666666666666666,
             "#ed7953"
            ],
            [
             0.7777777777777778,
             "#fb9f3a"
            ],
            [
             0.8888888888888888,
             "#fdca26"
            ],
            [
             1,
             "#f0f921"
            ]
           ]
          },
          "colorway": [
           "#636efa",
           "#EF553B",
           "#00cc96",
           "#ab63fa",
           "#FFA15A",
           "#19d3f3",
           "#FF6692",
           "#B6E880",
           "#FF97FF",
           "#FECB52"
          ],
          "font": {
           "color": "#2a3f5f"
          },
          "geo": {
           "bgcolor": "white",
           "lakecolor": "white",
           "landcolor": "#E5ECF6",
           "showlakes": true,
           "showland": true,
           "subunitcolor": "white"
          },
          "hoverlabel": {
           "align": "left"
          },
          "hovermode": "closest",
          "mapbox": {
           "style": "light"
          },
          "paper_bgcolor": "white",
          "plot_bgcolor": "#E5ECF6",
          "polar": {
           "angularaxis": {
            "gridcolor": "white",
            "linecolor": "white",
            "ticks": ""
           },
           "bgcolor": "#E5ECF6",
           "radialaxis": {
            "gridcolor": "white",
            "linecolor": "white",
            "ticks": ""
           }
          },
          "scene": {
           "xaxis": {
            "backgroundcolor": "#E5ECF6",
            "gridcolor": "white",
            "gridwidth": 2,
            "linecolor": "white",
            "showbackground": true,
            "ticks": "",
            "zerolinecolor": "white"
           },
           "yaxis": {
            "backgroundcolor": "#E5ECF6",
            "gridcolor": "white",
            "gridwidth": 2,
            "linecolor": "white",
            "showbackground": true,
            "ticks": "",
            "zerolinecolor": "white"
           },
           "zaxis": {
            "backgroundcolor": "#E5ECF6",
            "gridcolor": "white",
            "gridwidth": 2,
            "linecolor": "white",
            "showbackground": true,
            "ticks": "",
            "zerolinecolor": "white"
           }
          },
          "shapedefaults": {
           "line": {
            "color": "#2a3f5f"
           }
          },
          "ternary": {
           "aaxis": {
            "gridcolor": "white",
            "linecolor": "white",
            "ticks": ""
           },
           "baxis": {
            "gridcolor": "white",
            "linecolor": "white",
            "ticks": ""
           },
           "bgcolor": "#E5ECF6",
           "caxis": {
            "gridcolor": "white",
            "linecolor": "white",
            "ticks": ""
           }
          },
          "title": {
           "x": 0.05
          },
          "xaxis": {
           "automargin": true,
           "gridcolor": "white",
           "linecolor": "white",
           "ticks": "",
           "title": {
            "standoff": 15
           },
           "zerolinecolor": "white",
           "zerolinewidth": 2
          },
          "yaxis": {
           "automargin": true,
           "gridcolor": "white",
           "linecolor": "white",
           "ticks": "",
           "title": {
            "standoff": 15
           },
           "zerolinecolor": "white",
           "zerolinewidth": 2
          }
         }
        },
        "title": {
         "text": "LLaMA: Tokens per Second vs. Output Tokens"
        },
        "xaxis": {
         "anchor": "y",
         "domain": [
          0,
          1
         ],
         "title": {
          "text": "output_tokens"
         }
        },
        "yaxis": {
         "anchor": "x",
         "domain": [
          0,
          1
         ],
         "title": {
          "text": "tokens_per_second"
         }
        }
       }
      },
      "text/html": [
       "<div>                            <div id=\"025dfa28-a584-4115-b46f-be5a0d38e1aa\" class=\"plotly-graph-div\" style=\"height:525px; width:100%;\"></div>            <script type=\"text/javascript\">                require([\"plotly\"], function(Plotly) {                    window.PLOTLYENV=window.PLOTLYENV || {};                                    if (document.getElementById(\"025dfa28-a584-4115-b46f-be5a0d38e1aa\")) {                    Plotly.newPlot(                        \"025dfa28-a584-4115-b46f-be5a0d38e1aa\",                        [{\"hovertemplate\":\"grouping=llama-7b-hf_8bit<br>output_tokens=%{x}<br>tokens_per_second=%{y}<extra></extra>\",\"legendgroup\":\"llama-7b-hf_8bit\",\"marker\":{\"color\":\"#636efa\",\"symbol\":\"circle\",\"size\":12},\"mode\":\"markers\",\"name\":\"llama-7b-hf_8bit\",\"orientation\":\"v\",\"showlegend\":true,\"x\":[64,80,64,170,277,384,490,597,704,810,917,1024],\"xaxis\":\"x\",\"y\":[23.66,26.17,24.01,20.34,16.3,15.64,18.56,16.79,16.77,16.23,16.16,16.35],\"yaxis\":\"y\",\"type\":\"scatter\"},{\"hovertemplate\":\"<b>OLS trendline</b><br>tokens_per_second = -7.35711 * log10(output_tokens) + 37.2879<br>R<sup>2</sup>=0.814191<br><br>grouping=llama-7b-hf_8bit<br>output_tokens=%{x}<br>tokens_per_second=%{y} <b>(trend)</b><extra></extra>\",\"legendgroup\":\"llama-7b-hf_8bit\",\"marker\":{\"color\":\"#636efa\",\"symbol\":\"circle\",\"size\":12},\"mode\":\"lines\",\"name\":\"llama-7b-hf_8bit\",\"showlegend\":false,\"x\":[64,64,80,170,277,384,490,597,704,810,917,1024],\"xaxis\":\"x\",\"y\":[23.999650022930524,23.999650022930524,23.286672462346317,20.87825699288592,19.318322865755807,18.274706200892666,17.495846883904523,16.86476691267407,16.338010185851736,15.889871295902626,15.49343848625617,15.140807667668962],\"yaxis\":\"y\",\"type\":\"scatter\"},{\"hovertemplate\":\"grouping=llama-30b-hf_4bit<br>output_tokens=%{x}<br>tokens_per_second=%{y}<extra></extra>\",\"legendgroup\":\"llama-30b-hf_4bit\",\"marker\":{\"color\":\"#EF553B\",\"symbol\":\"circle\",\"size\":12},\"mode\":\"markers\",\"name\":\"llama-30b-hf_4bit\",\"orientation\":\"v\",\"showlegend\":true,\"x\":[64,80,1024,1024],\"xaxis\":\"x\",\"y\":[3.12,2.84,2.02,2.02],\"yaxis\":\"y\",\"type\":\"scatter\"},{\"hovertemplate\":\"<b>OLS trendline</b><br>tokens_per_second = -0.837903 * log10(output_tokens) + 4.53817<br>R<sup>2</sup>=0.979361<br><br>grouping=llama-30b-hf_4bit<br>output_tokens=%{x}<br>tokens_per_second=%{y} <b>(trend)</b><extra></extra>\",\"legendgroup\":\"llama-30b-hf_4bit\",\"marker\":{\"color\":\"#EF553B\",\"symbol\":\"circle\",\"size\":12},\"mode\":\"lines\",\"name\":\"llama-30b-hf_4bit\",\"showlegend\":false,\"x\":[64,80,1024,1024],\"xaxis\":\"x\",\"y\":[3.0247682435067613,2.9435670415913995,2.015832357450921,2.015832357450921],\"yaxis\":\"y\",\"type\":\"scatter\"},{\"hovertemplate\":\"grouping=llama-13b-hf_8bit<br>output_tokens=%{x}<br>tokens_per_second=%{y}<extra></extra>\",\"legendgroup\":\"llama-13b-hf_8bit\",\"marker\":{\"color\":\"#00cc96\",\"symbol\":\"circle\",\"size\":12},\"mode\":\"markers\",\"name\":\"llama-13b-hf_8bit\",\"orientation\":\"v\",\"showlegend\":true,\"x\":[64,170,277,384,490,597,704,810,917,1024,64,80],\"xaxis\":\"x\",\"y\":[21.84,16.24,14.93,14.23,13.48,13.14,13.84,13.49,13.21,13.56,21.87,19.81],\"yaxis\":\"y\",\"type\":\"scatter\"},{\"hovertemplate\":\"<b>OLS trendline</b><br>tokens_per_second = -7.08945 * log10(output_tokens) + 33.5078<br>R<sup>2</sup>=0.906660<br><br>grouping=llama-13b-hf_8bit<br>output_tokens=%{x}<br>tokens_per_second=%{y} <b>(trend)</b><extra></extra>\",\"legendgroup\":\"llama-13b-hf_8bit\",\"marker\":{\"color\":\"#00cc96\",\"symbol\":\"circle\",\"size\":12},\"mode\":\"lines\",\"name\":\"llama-13b-hf_8bit\",\"showlegend\":false,\"x\":[64,64,80,170,277,384,490,597,704,810,917,1024],\"xaxis\":\"x\",\"y\":[20.7029963750963,20.7029963750963,20.015957977675317,17.69516417442273,16.191982725195064,15.186334356175013,14.435811076702553,13.82769071492934,13.320098165831162,12.888263222077288,12.506253216038068,12.166451620760807],\"yaxis\":\"y\",\"type\":\"scatter\"},{\"hovertemplate\":\"grouping=llama-7b-hf_4bit<br>output_tokens=%{x}<br>tokens_per_second=%{y}<extra></extra>\",\"legendgroup\":\"llama-7b-hf_4bit\",\"marker\":{\"color\":\"#ab63fa\",\"symbol\":\"circle\",\"size\":12},\"mode\":\"markers\",\"name\":\"llama-7b-hf_4bit\",\"orientation\":\"v\",\"showlegend\":true,\"x\":[64,80,64,170,277,384,490,597,704,810,917,1024],\"xaxis\":\"x\",\"y\":[14.73,13.22,14.7,10.71,10.06,9.76,9.62,9.56,9.5,9.45,9.4,9.37],\"yaxis\":\"y\",\"type\":\"scatter\"},{\"hovertemplate\":\"<b>OLS trendline</b><br>tokens_per_second = -4.32451 * log10(output_tokens) + 21.6396<br>R<sup>2</sup>=0.876327<br><br>grouping=llama-7b-hf_4bit<br>output_tokens=%{x}<br>tokens_per_second=%{y} <b>(trend)</b><extra></extra>\",\"legendgroup\":\"llama-7b-hf_4bit\",\"marker\":{\"color\":\"#ab63fa\",\"symbol\":\"circle\",\"size\":12},\"mode\":\"lines\",\"name\":\"llama-7b-hf_4bit\",\"showlegend\":false,\"x\":[64,64,80,170,277,384,490,597,704,810,917,1024],\"xaxis\":\"x\",\"y\":[13.828756842642594,13.828756842642594,13.409668694345905,11.994002290205197,11.07707314552343,10.463635360397788,10.005821921398773,9.63487316902375,9.325245610667062,9.061829610008337,8.828806438868625,8.621530074275935],\"yaxis\":\"y\",\"type\":\"scatter\"},{\"hovertemplate\":\"grouping=llama-13b-hf_4bit<br>output_tokens=%{x}<br>tokens_per_second=%{y}<extra></extra>\",\"legendgroup\":\"llama-13b-hf_4bit\",\"marker\":{\"color\":\"#FFA15A\",\"symbol\":\"circle\",\"size\":12},\"mode\":\"markers\",\"name\":\"llama-13b-hf_4bit\",\"orientation\":\"v\",\"showlegend\":true,\"x\":[64,80,64,170,277,384,490,597,704,810,917,1024],\"xaxis\":\"x\",\"y\":[7.82,6.98,7.8,5.68,5.33,5.19,5.12,5.06,5.03,5.0,4.98,4.96],\"yaxis\":\"y\",\"type\":\"scatter\"},{\"hovertemplate\":\"<b>OLS trendline</b><br>tokens_per_second = -2.2946 * log10(output_tokens) + 11.4761<br>R<sup>2</sup>=0.876993<br><br>grouping=llama-13b-hf_4bit<br>output_tokens=%{x}<br>tokens_per_second=%{y} <b>(trend)</b><extra></extra>\",\"legendgroup\":\"llama-13b-hf_4bit\",\"marker\":{\"color\":\"#FFA15A\",\"symbol\":\"circle\",\"size\":12},\"mode\":\"lines\",\"name\":\"llama-13b-hf_4bit\",\"showlegend\":false,\"x\":[64,64,80,170,277,384,490,597,704,810,917,1024],\"xaxis\":\"x\",\"y\":[7.331675659447964,7.331675659447964,7.109306373844166,6.35815001635346,5.871624974591032,5.546133255020391,5.303216227221366,5.106389833068942,4.9421006274809045,4.802331397257714,4.678688683174601,4.568707293091485],\"yaxis\":\"y\",\"type\":\"scatter\"}],                        {\"template\":{\"data\":{\"histogram2dcontour\":[{\"type\":\"histogram2dcontour\",\"colorbar\":{\"outlinewidth\":0,\"ticks\":\"\"},\"colorscale\":[[0.0,\"#0d0887\"],[0.1111111111111111,\"#46039f\"],[0.2222222222222222,\"#7201a8\"],[0.3333333333333333,\"#9c179e\"],[0.4444444444444444,\"#bd3786\"],[0.5555555555555556,\"#d8576b\"],[0.6666666666666666,\"#ed7953\"],[0.7777777777777778,\"#fb9f3a\"],[0.8888888888888888,\"#fdca26\"],[1.0,\"#f0f921\"]]}],\"choropleth\":[{\"type\":\"choropleth\",\"colorbar\":{\"outlinewidth\":0,\"ticks\":\"\"}}],\"histogram2d\":[{\"type\":\"histogram2d\",\"colorbar\":{\"outlinewidth\":0,\"ticks\":\"\"},\"colorscale\":[[0.0,\"#0d0887\"],[0.1111111111111111,\"#46039f\"],[0.2222222222222222,\"#7201a8\"],[0.3333333333333333,\"#9c179e\"],[0.4444444444444444,\"#bd3786\"],[0.5555555555555556,\"#d8576b\"],[0.6666666666666666,\"#ed7953\"],[0.7777777777777778,\"#fb9f3a\"],[0.8888888888888888,\"#fdca26\"],[1.0,\"#f0f921\"]]}],\"heatmap\":[{\"type\":\"heatmap\",\"colorbar\":{\"outlinewidth\":0,\"ticks\":\"\"},\"colorscale\":[[0.0,\"#0d0887\"],[0.1111111111111111,\"#46039f\"],[0.2222222222222222,\"#7201a8\"],[0.3333333333333333,\"#9c179e\"],[0.4444444444444444,\"#bd3786\"],[0.5555555555555556,\"#d8576b\"],[0.6666666666666666,\"#ed7953\"],[0.7777777777777778,\"#fb9f3a\"],[0.8888888888888888,\"#fdca26\"],[1.0,\"#f0f921\"]]}],\"heatmapgl\":[{\"type\":\"heatmapgl\",\"colorbar\":{\"outlinewidth\":0,\"ticks\":\"\"},\"colorscale\":[[0.0,\"#0d0887\"],[0.1111111111111111,\"#46039f\"],[0.2222222222222222,\"#7201a8\"],[0.3333333333333333,\"#9c179e\"],[0.4444444444444444,\"#bd3786\"],[0.5555555555555556,\"#d8576b\"],[0.6666666666666666,\"#ed7953\"],[0.7777777777777778,\"#fb9f3a\"],[0.8888888888888888,\"#fdca26\"],[1.0,\"#f0f921\"]]}],\"contourcarpet\":[{\"type\":\"contourcarpet\",\"colorbar\":{\"outlinewidth\":0,\"ticks\":\"\"}}],\"contour\":[{\"type\":\"contour\",\"colorbar\":{\"outlinewidth\":0,\"ticks\":\"\"},\"colorscale\":[[0.0,\"#0d0887\"],[0.1111111111111111,\"#46039f\"],[0.2222222222222222,\"#7201a8\"],[0.3333333333333333,\"#9c179e\"],[0.4444444444444444,\"#bd3786\"],[0.5555555555555556,\"#d8576b\"],[0.6666666666666666,\"#ed7953\"],[0.7777777777777778,\"#fb9f3a\"],[0.8888888888888888,\"#fdca26\"],[1.0,\"#f0f921\"]]}],\"surface\":[{\"type\":\"surface\",\"colorbar\":{\"outlinewidth\":0,\"ticks\":\"\"},\"colorscale\":[[0.0,\"#0d0887\"],[0.1111111111111111,\"#46039f\"],[0.2222222222222222,\"#7201a8\"],[0.3333333333333333,\"#9c179e\"],[0.4444444444444444,\"#bd3786\"],[0.5555555555555556,\"#d8576b\"],[0.6666666666666666,\"#ed7953\"],[0.7777777777777778,\"#fb9f3a\"],[0.8888888888888888,\"#fdca26\"],[1.0,\"#f0f921\"]]}],\"mesh3d\":[{\"type\":\"mesh3d\",\"colorbar\":{\"outlinewidth\":0,\"ticks\":\"\"}}],\"scatter\":[{\"fillpattern\":{\"fillmode\":\"overlay\",\"size\":10,\"solidity\":0.2},\"type\":\"scatter\"}],\"parcoords\":[{\"type\":\"parcoords\",\"line\":{\"colorbar\":{\"outlinewidth\":0,\"ticks\":\"\"}}}],\"scatterpolargl\":[{\"type\":\"scatterpolargl\",\"marker\":{\"colorbar\":{\"outlinewidth\":0,\"ticks\":\"\"}}}],\"bar\":[{\"error_x\":{\"color\":\"#2a3f5f\"},\"error_y\":{\"color\":\"#2a3f5f\"},\"marker\":{\"line\":{\"color\":\"#E5ECF6\",\"width\":0.5},\"pattern\":{\"fillmode\":\"overlay\",\"size\":10,\"solidity\":0.2}},\"type\":\"bar\"}],\"scattergeo\":[{\"type\":\"scattergeo\",\"marker\":{\"colorbar\":{\"outlinewidth\":0,\"ticks\":\"\"}}}],\"scatterpolar\":[{\"type\":\"scatterpolar\",\"marker\":{\"colorbar\":{\"outlinewidth\":0,\"ticks\":\"\"}}}],\"histogram\":[{\"marker\":{\"pattern\":{\"fillmode\":\"overlay\",\"size\":10,\"solidity\":0.2}},\"type\":\"histogram\"}],\"scattergl\":[{\"type\":\"scattergl\",\"marker\":{\"colorbar\":{\"outlinewidth\":0,\"ticks\":\"\"}}}],\"scatter3d\":[{\"type\":\"scatter3d\",\"line\":{\"colorbar\":{\"outlinewidth\":0,\"ticks\":\"\"}},\"marker\":{\"colorbar\":{\"outlinewidth\":0,\"ticks\":\"\"}}}],\"scattermapbox\":[{\"type\":\"scattermapbox\",\"marker\":{\"colorbar\":{\"outlinewidth\":0,\"ticks\":\"\"}}}],\"scatterternary\":[{\"type\":\"scatterternary\",\"marker\":{\"colorbar\":{\"outlinewidth\":0,\"ticks\":\"\"}}}],\"scattercarpet\":[{\"type\":\"scattercarpet\",\"marker\":{\"colorbar\":{\"outlinewidth\":0,\"ticks\":\"\"}}}],\"carpet\":[{\"aaxis\":{\"endlinecolor\":\"#2a3f5f\",\"gridcolor\":\"white\",\"linecolor\":\"white\",\"minorgridcolor\":\"white\",\"startlinecolor\":\"#2a3f5f\"},\"baxis\":{\"endlinecolor\":\"#2a3f5f\",\"gridcolor\":\"white\",\"linecolor\":\"white\",\"minorgridcolor\":\"white\",\"startlinecolor\":\"#2a3f5f\"},\"type\":\"carpet\"}],\"table\":[{\"cells\":{\"fill\":{\"color\":\"#EBF0F8\"},\"line\":{\"color\":\"white\"}},\"header\":{\"fill\":{\"color\":\"#C8D4E3\"},\"line\":{\"color\":\"white\"}},\"type\":\"table\"}],\"barpolar\":[{\"marker\":{\"line\":{\"color\":\"#E5ECF6\",\"width\":0.5},\"pattern\":{\"fillmode\":\"overlay\",\"size\":10,\"solidity\":0.2}},\"type\":\"barpolar\"}],\"pie\":[{\"automargin\":true,\"type\":\"pie\"}]},\"layout\":{\"autotypenumbers\":\"strict\",\"colorway\":[\"#636efa\",\"#EF553B\",\"#00cc96\",\"#ab63fa\",\"#FFA15A\",\"#19d3f3\",\"#FF6692\",\"#B6E880\",\"#FF97FF\",\"#FECB52\"],\"font\":{\"color\":\"#2a3f5f\"},\"hovermode\":\"closest\",\"hoverlabel\":{\"align\":\"left\"},\"paper_bgcolor\":\"white\",\"plot_bgcolor\":\"#E5ECF6\",\"polar\":{\"bgcolor\":\"#E5ECF6\",\"angularaxis\":{\"gridcolor\":\"white\",\"linecolor\":\"white\",\"ticks\":\"\"},\"radialaxis\":{\"gridcolor\":\"white\",\"linecolor\":\"white\",\"ticks\":\"\"}},\"ternary\":{\"bgcolor\":\"#E5ECF6\",\"aaxis\":{\"gridcolor\":\"white\",\"linecolor\":\"white\",\"ticks\":\"\"},\"baxis\":{\"gridcolor\":\"white\",\"linecolor\":\"white\",\"ticks\":\"\"},\"caxis\":{\"gridcolor\":\"white\",\"linecolor\":\"white\",\"ticks\":\"\"}},\"coloraxis\":{\"colorbar\":{\"outlinewidth\":0,\"ticks\":\"\"}},\"colorscale\":{\"sequential\":[[0.0,\"#0d0887\"],[0.1111111111111111,\"#46039f\"],[0.2222222222222222,\"#7201a8\"],[0.3333333333333333,\"#9c179e\"],[0.4444444444444444,\"#bd3786\"],[0.5555555555555556,\"#d8576b\"],[0.6666666666666666,\"#ed7953\"],[0.7777777777777778,\"#fb9f3a\"],[0.8888888888888888,\"#fdca26\"],[1.0,\"#f0f921\"]],\"sequentialminus\":[[0.0,\"#0d0887\"],[0.1111111111111111,\"#46039f\"],[0.2222222222222222,\"#7201a8\"],[0.3333333333333333,\"#9c179e\"],[0.4444444444444444,\"#bd3786\"],[0.5555555555555556,\"#d8576b\"],[0.6666666666666666,\"#ed7953\"],[0.7777777777777778,\"#fb9f3a\"],[0.8888888888888888,\"#fdca26\"],[1.0,\"#f0f921\"]],\"diverging\":[[0,\"#8e0152\"],[0.1,\"#c51b7d\"],[0.2,\"#de77ae\"],[0.3,\"#f1b6da\"],[0.4,\"#fde0ef\"],[0.5,\"#f7f7f7\"],[0.6,\"#e6f5d0\"],[0.7,\"#b8e186\"],[0.8,\"#7fbc41\"],[0.9,\"#4d9221\"],[1,\"#276419\"]]},\"xaxis\":{\"gridcolor\":\"white\",\"linecolor\":\"white\",\"ticks\":\"\",\"title\":{\"standoff\":15},\"zerolinecolor\":\"white\",\"automargin\":true,\"zerolinewidth\":2},\"yaxis\":{\"gridcolor\":\"white\",\"linecolor\":\"white\",\"ticks\":\"\",\"title\":{\"standoff\":15},\"zerolinecolor\":\"white\",\"automargin\":true,\"zerolinewidth\":2},\"scene\":{\"xaxis\":{\"backgroundcolor\":\"#E5ECF6\",\"gridcolor\":\"white\",\"linecolor\":\"white\",\"showbackground\":true,\"ticks\":\"\",\"zerolinecolor\":\"white\",\"gridwidth\":2},\"yaxis\":{\"backgroundcolor\":\"#E5ECF6\",\"gridcolor\":\"white\",\"linecolor\":\"white\",\"showbackground\":true,\"ticks\":\"\",\"zerolinecolor\":\"white\",\"gridwidth\":2},\"zaxis\":{\"backgroundcolor\":\"#E5ECF6\",\"gridcolor\":\"white\",\"linecolor\":\"white\",\"showbackground\":true,\"ticks\":\"\",\"zerolinecolor\":\"white\",\"gridwidth\":2}},\"shapedefaults\":{\"line\":{\"color\":\"#2a3f5f\"}},\"annotationdefaults\":{\"arrowcolor\":\"#2a3f5f\",\"arrowhead\":0,\"arrowwidth\":1},\"geo\":{\"bgcolor\":\"white\",\"landcolor\":\"#E5ECF6\",\"subunitcolor\":\"white\",\"showland\":true,\"showlakes\":true,\"lakecolor\":\"white\"},\"title\":{\"x\":0.05},\"mapbox\":{\"style\":\"light\"}}},\"xaxis\":{\"anchor\":\"y\",\"domain\":[0.0,1.0],\"title\":{\"text\":\"output_tokens\"}},\"yaxis\":{\"anchor\":\"x\",\"domain\":[0.0,1.0],\"title\":{\"text\":\"tokens_per_second\"}},\"legend\":{\"title\":{\"text\":\"grouping\"},\"tracegroupgap\":0},\"margin\":{\"t\":60},\"title\":{\"text\":\"LLaMA: Tokens per Second vs. Output Tokens\"}},                        {\"responsive\": true}                    ).then(function(){\n",
       "                            \n",
       "var gd = document.getElementById('025dfa28-a584-4115-b46f-be5a0d38e1aa');\n",
       "var x = new MutationObserver(function (mutations, observer) {{\n",
       "        var display = window.getComputedStyle(gd).display;\n",
       "        if (!display || display === 'none') {{\n",
       "            console.log([gd, 'removed!']);\n",
       "            Plotly.purge(gd);\n",
       "            observer.disconnect();\n",
       "        }}\n",
       "}});\n",
       "\n",
       "// Listen for the removal of the full notebook cells\n",
       "var notebookContainer = gd.closest('#notebook-container');\n",
       "if (notebookContainer) {{\n",
       "    x.observe(notebookContainer, {childList: true});\n",
       "}}\n",
       "\n",
       "// Listen for the clearing of the current output cell\n",
       "var outputEl = gd.closest('.output');\n",
       "if (outputEl) {{\n",
       "    x.observe(outputEl, {childList: true});\n",
       "}}\n",
       "\n",
       "                        })                };                });            </script>        </div>"
      ]
     },
     "metadata": {},
     "output_type": "display_data"
    }
   ],
   "source": [
    "from llm_benchmarks.plotting import plot_model_inference_speed\n",
    "\n",
    "plot_model_inference_speed(\n",
    "    model_name=\"llama\",\n",
    "    filters={},\n",
    "    grouping_columns=[\"model_name\", \"quantization_bits\"],\n",
    "    colors={},\n",
    "    title=\"LLaMA: Tokens per Second vs. Output Tokens\",\n",
    "    results_dir=\"./results3\",\n",
    "    save_path=\"./llama_compare_size_and_quant_inference.png\",\n",
    "    width=800,\n",
    "    height=400,\n",
    ")"
   ]
  }
 ],
 "metadata": {
  "kernelspec": {
   "display_name": "dolly2",
   "language": "python",
   "name": "python3"
  },
  "language_info": {
   "codemirror_mode": {
    "name": "ipython",
    "version": 3
   },
   "file_extension": ".py",
   "mimetype": "text/x-python",
   "name": "python",
   "nbconvert_exporter": "python",
   "pygments_lexer": "ipython3",
   "version": "3.9.16"
  },
  "orig_nbformat": 4
 },
 "nbformat": 4,
 "nbformat_minor": 2
}
