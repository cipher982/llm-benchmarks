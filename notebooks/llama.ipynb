{
 "cells": [
  {
   "attachments": {},
   "cell_type": "markdown",
   "metadata": {},
   "source": [
    "## Benchmark"
   ]
  },
  {
   "cell_type": "code",
   "execution_count": null,
   "metadata": {},
   "outputs": [],
   "source": [
    "import os\n",
    "\n",
    "import torch\n",
    "\n",
    "from llm_benchmarks.generation import generate_samples\n",
    "from llm_benchmarks.utils import log_metrics_to_csv\n",
    "\n",
    "os.environ[\"WANDB_SILENT\"] = \"true\"\n",
    "\n",
    "config = {\n",
    "    \"quantization_bits\": \"4bit\",\n",
    "    \"torch_dtype\": torch.float16,\n",
    "    \"temperature\": 0.1,\n",
    "}\n",
    "\n",
    "model_names = [\n",
    "    \"decapoda-research/llama-7b-hf\",\n",
    "    # \"decapoda-research/llama-13b-hf\",\n",
    "    # \"decapoda-research/llama-30b-hf\",\n",
    "    # \"decapoda-research/llama-65b-hf\",\n",
    "]\n",
    "\n",
    "for model_name in model_names:\n",
    "    config[\"model_name\"] = model_name\n",
    "    metrics = generate_samples(model_name, config, custom_token_counts=[512], llama=True)\n",
    "    log_metrics_to_csv(model_name, config, metrics, \"results512\")"
   ]
  },
  {
   "attachments": {},
   "cell_type": "markdown",
   "metadata": {},
   "source": [
    "## Plot"
   ]
  },
  {
   "cell_type": "code",
   "execution_count": null,
   "metadata": {},
   "outputs": [],
   "source": [
    "from llm_benchmarks.plotting import plot_model_inference_speed\n",
    "\n",
    "plot_model_inference_speed(\n",
    "    model_name=\"llama\",\n",
    "    filters={},\n",
    "    grouping_columns=[\"model_name\", \"quantization_bits\"],\n",
    "    colors={},\n",
    "    title=\"LLaMA: Tokens per Second vs. Output Tokens\",\n",
    "    results_dir=\"./results512\",\n",
    "    save_path=\"./llama_compare_size_and_quant_inference.png\",\n",
    "    width=800,\n",
    "    height=400,\n",
    ")"
   ]
  }
 ],
 "metadata": {
  "kernelspec": {
   "display_name": "dolly2",
   "language": "python",
   "name": "python3"
  },
  "language_info": {
   "codemirror_mode": {
    "name": "ipython",
    "version": 3
   },
   "file_extension": ".py",
   "mimetype": "text/x-python",
   "name": "python",
   "nbconvert_exporter": "python",
   "pygments_lexer": "ipython3",
   "version": "3.9.16"
  },
  "orig_nbformat": 4
 },
 "nbformat": 4,
 "nbformat_minor": 2
}
