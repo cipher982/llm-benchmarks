{
 "cells": [
  {
   "cell_type": "code",
   "execution_count": null,
   "metadata": {},
   "outputs": [],
   "source": [
    "import gc\n",
    "from time import time\n",
    "\n",
    "import torch\n",
    "from transformers import LlamaForCausalLM, LlamaTokenizer\n",
    "\n",
    "models = [\"chainyo/alpaca-lora-7b\", \"chavinlo/alpaca-13b\"]\n",
    "\n",
    "for model_name in models:\n",
    "    # Load Model\n",
    "    model = LlamaForCausalLM.from_pretrained(\n",
    "        model_name,\n",
    "        load_in_8bit=True,\n",
    "        torch_dtype=torch.float16,\n",
    "        device_map=\"auto\",\n",
    "    )\n",
    "    model.eval()\n",
    "    model = torch.compile(model)\n",
    "\n",
    "    # Tokenize inputs\n",
    "    tokenizer = LlamaTokenizer.from_pretrained(model_name)\n",
    "    text = \"Question: Tell me a history of WW2 in 3 or 4 paragraphs.\\nAnswer: \"\n",
    "    input_tokens = tokenizer(text, return_tensors=\"pt\").input_ids.to(\"cuda\")\n",
    "\n",
    "    # Generate\n",
    "    time0 = time()\n",
    "    with torch.no_grad():\n",
    "        output = model.generate(\n",
    "            input_tokens,\n",
    "            do_sample=True,\n",
    "            temperature=0.9,\n",
    "            max_length=1024,\n",
    "            pad_token_id=tokenizer.eos_token_id,\n",
    "            eos_token_id=tokenizer.eos_token_id,\n",
    "        )\n",
    "    time1 = time()\n",
    "\n",
    "    # Collect metrics\n",
    "    gpu_mem_usage = torch.cuda.memory_allocated() / 1024**3\n",
    "    output_tokens = output.cpu().numpy().tolist()[0]\n",
    "\n",
    "    # Clear up memory\n",
    "    del model\n",
    "    gc.collect()\n",
    "    torch.cuda.empty_cache()\n",
    "\n",
    "    print(f\"===== Model: {model_name} =====\")\n",
    "    print(f\"Output tokens: {len(output_tokens)}\")\n",
    "    print(f\"GPU memory usage: {gpu_mem_usage:.2f} GB\")\n",
    "    print(f\"Time: {time() - time0:.2f} s\")\n",
    "    print(f\"Tokens per second: {len(output_tokens) / (time1 - time0):.2f}\")"
   ]
  }
 ],
 "metadata": {
  "kernelspec": {
   "display_name": "dolly2",
   "language": "python",
   "name": "python3"
  },
  "language_info": {
   "codemirror_mode": {
    "name": "ipython",
    "version": 3
   },
   "file_extension": ".py",
   "mimetype": "text/x-python",
   "name": "python",
   "nbconvert_exporter": "python",
   "pygments_lexer": "ipython3",
   "version": "3.9.16"
  },
  "orig_nbformat": 4
 },
 "nbformat": 4,
 "nbformat_minor": 2
}
