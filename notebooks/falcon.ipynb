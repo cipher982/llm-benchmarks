{
 "cells": [
  {
   "attachments": {},
   "cell_type": "markdown",
   "metadata": {},
   "source": [
    "## Benchmark"
   ]
  },
  {
   "cell_type": "code",
   "execution_count": null,
   "metadata": {},
   "outputs": [],
   "source": [
    "import os\n",
    "\n",
    "import torch\n",
    "\n",
    "from llm_benchmarks.generation import generate_samples\n",
    "from llm_benchmarks.utils import log_metrics_to_csv\n",
    "\n",
    "os.environ[\"WANDB_SILENT\"] = \"true\"\n",
    "\n",
    "# Test both 8-bit\n",
    "config = {\n",
    "    \"load_in_8bit\": True,\n",
    "    \"torch_dtype\": torch.float16,\n",
    "    \"temperature\": 0.9,\n",
    "    \"max_length\": 150,\n",
    "}\n",
    "\n",
    "model_name = \"tiiuae/falcon-7b\"\n",
    "metrics = generate_samples(model_name, config, 3)\n",
    "log_metrics_to_csv(model_name, config, metrics, \"results\")"
   ]
  },
  {
   "attachments": {},
   "cell_type": "markdown",
   "metadata": {},
   "source": [
    "## Plot"
   ]
  },
  {
   "cell_type": "code",
   "execution_count": null,
   "metadata": {},
   "outputs": [],
   "source": [
    "from llm_benchmarks.plotting import plot_model_inference_speed\n",
    "\n",
    "plot_model_inference_speed(\n",
    "    model_name=\"falcon\",\n",
    "    filters={\"tokens_per_second\": (0, 100)},\n",
    "    grouping_column=\"load_in_8bit\",\n",
    "    colors={True: \"blue\", False: \"red\"},\n",
    "    title=\"Falcon 7B: Tokens per Second vs. Output Tokens\",\n",
    "    save_path=\"./falcon_compare_8bit_inference.png\",\n",
    ")"
   ]
  }
 ],
 "metadata": {
  "kernelspec": {
   "display_name": "dolly2",
   "language": "python",
   "name": "python3"
  },
  "language_info": {
   "codemirror_mode": {
    "name": "ipython",
    "version": 3
   },
   "file_extension": ".py",
   "mimetype": "text/x-python",
   "name": "python",
   "nbconvert_exporter": "python",
   "pygments_lexer": "ipython3",
   "version": "3.9.16"
  },
  "orig_nbformat": 4
 },
 "nbformat": 4,
 "nbformat_minor": 2
}
