{
 "cells": [
  {
   "cell_type": "code",
   "execution_count": null,
   "metadata": {},
   "outputs": [],
   "source": [
    "import torch\n",
    "\n",
    "from llm_benchmarks.generation import generate_samples\n",
    "from llm_benchmarks.utils import log_metrics_to_csv\n",
    "\n",
    "config = {\n",
    "    \"load_in_8bit\": True,\n",
    "    \"torch_dtype\": torch.float16,\n",
    "    \"temperature\": 0.9,\n",
    "    \"max_length\": 1024,\n",
    "}\n",
    "\n",
    "model_names = [\"tiiuae/falcon-7b\"]\n",
    "for model_name in model_names:\n",
    "    metrics = generate_samples(model_name, config, 50)\n",
    "    log_metrics_to_csv(model_name, config, metrics, \"results\")\n",
    "\n",
    "config = {\n",
    "    \"load_in_8bit\": False,\n",
    "    \"torch_dtype\": torch.bfloat16,\n",
    "    \"temperature\": 0.9,\n",
    "    \"max_length\": 1024,\n",
    "}\n",
    "\n",
    "model_names = [\"tiiuae/falcon-7b\"]\n",
    "for model_name in model_names:\n",
    "    metrics = generate_samples(model_name, config, 50)\n",
    "    log_metrics_to_csv(model_name, config, metrics, \"results\")"
   ]
  }
 ],
 "metadata": {
  "kernelspec": {
   "display_name": "dolly2",
   "language": "python",
   "name": "python3"
  },
  "language_info": {
   "codemirror_mode": {
    "name": "ipython",
    "version": 3
   },
   "file_extension": ".py",
   "mimetype": "text/x-python",
   "name": "python",
   "nbconvert_exporter": "python",
   "pygments_lexer": "ipython3",
   "version": "3.9.16"
  },
  "orig_nbformat": 4
 },
 "nbformat": 4,
 "nbformat_minor": 2
}
