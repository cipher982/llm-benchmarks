{
 "cells": [
  {
   "attachments": {},
   "cell_type": "markdown",
   "metadata": {},
   "source": [
    "## Benchmark"
   ]
  },
  {
   "cell_type": "code",
   "execution_count": null,
   "metadata": {},
   "outputs": [],
   "source": [
    "import os\n",
    "\n",
    "import torch\n",
    "\n",
    "from llm_benchmarks.generation import generate_samples\n",
    "from llm_benchmarks.utils import log_metrics_to_csv\n",
    "\n",
    "os.environ[\"WANDB_SILENT\"] = \"true\"\n",
    "\n",
    "# Test both 8-bit\n",
    "config = {\n",
    "    \"load_in_8bit\": True,\n",
    "    \"torch_dtype\": torch.float16,\n",
    "    \"temperature\": 0.9,\n",
    "    \"max_length\": 150,\n",
    "}\n",
    "\n",
    "model_name = \"tiiuae/falcon-7b\"\n",
    "metrics = generate_samples(model_name, config, 3)\n",
    "log_metrics_to_csv(model_name, config, metrics, \"results\")"
   ]
  },
  {
   "attachments": {},
   "cell_type": "markdown",
   "metadata": {},
   "source": [
    "## Plot"
   ]
  },
  {
   "cell_type": "code",
   "execution_count": null,
   "metadata": {},
   "outputs": [],
   "source": [
    "# Load all csv files that contain 'dolly' in the filename and put into a single dataframe\n",
    "import glob\n",
    "\n",
    "import pandas as pd\n",
    "import plotly.express as px\n",
    "\n",
    "df = pd.concat([pd.read_csv(f) for f in glob.glob(\"./results/*falcon*.csv\")], ignore_index=True)\n",
    "\n",
    "# Remove outliers\n",
    "df = df[df[\"tokens_per_second\"] < 100]\n",
    "# df = df[df['output_tokens'] > 500]\n",
    "\n",
    "# Plot the DataFrame\n",
    "colors = {True: \"blue\", False: \"red\"}\n",
    "fig = px.scatter(df, x=\"output_tokens\", y=\"tokens_per_second\", color=\"load_in_8bit\", color_discrete_map=colors)\n",
    "fig.update_traces(marker=dict(size=12))\n",
    "fig.update_layout(xaxis_title=\"output_tokens\", yaxis_title=\"tokens_per_second\", title=\"Scatter Plot\")\n",
    "fig.update_layout(title=\"Falcon 7B: Tokens per Second vs. Output Tokens\")\n",
    "fig.show()\n",
    "\n",
    "# fig.write_image(\"falcon_compare_8bit_inference.png\", format=\"png\", width=700, height=400, scale=5)"
   ]
  }
 ],
 "metadata": {
  "kernelspec": {
   "display_name": "dolly2",
   "language": "python",
   "name": "python3"
  },
  "language_info": {
   "codemirror_mode": {
    "name": "ipython",
    "version": 3
   },
   "file_extension": ".py",
   "mimetype": "text/x-python",
   "name": "python",
   "nbconvert_exporter": "python",
   "pygments_lexer": "ipython3",
   "version": "3.9.16"
  },
  "orig_nbformat": 4
 },
 "nbformat": 4,
 "nbformat_minor": 2
}
