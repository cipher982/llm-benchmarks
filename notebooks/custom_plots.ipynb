{
 "cells": [
  {
   "attachments": {},
   "cell_type": "markdown",
   "metadata": {},
   "source": [
    "# Custom Plots\n",
    "Use this for taking manual benchmarks and making a new bar graph comparison."
   ]
  },
  {
   "cell_type": "code",
   "execution_count": null,
   "metadata": {},
   "outputs": [],
   "source": [
    "# Make sample barchart in plotly express\n",
    "import pandas as pd\n",
    "import plotly.express as px\n",
    "import plotly.graph_objects as go\n",
    "from plotly.subplots import make_subplots\n",
    "\n",
    "# Create sample data\n",
    "# data = {\"Model\": ['13B - HF', '13B - GGML', '30B - HF', '30B - GGML'],\n",
    "# \"Tokens/Second\": [5.12, 31.91, 2.55, 16.16]}\n",
    "# df = pd.DataFrame(data)\n",
    "\n",
    "df_7B = pd.DataFrame({\"Model\": [\"BitsAndBytes\", \"GGML-CPP\"], \"Tokens/Second\": [9.62, 48.01]})\n",
    "df_13B = pd.DataFrame({\"Model\": [\"BitsAndBytes\", \"GGML-CPP\"], \"Tokens/Second\": [5.12, 31.91]})\n",
    "df_30B = pd.DataFrame({\"Model\": [\"BitsAndBytes\", \"GGML-CPP\"], \"Tokens/Second\": [2.55, 16.16]})\n",
    "df_65B = pd.DataFrame({\"Model\": [\"BitsAndBytes\", \"GGML-CPP\"], \"Tokens/Second\": [1.08, 9.82]})\n",
    "\n",
    "\n",
    "# Create bar chart\n",
    "fig = make_subplots(\n",
    "    rows=4,\n",
    "    cols=1,\n",
    "    shared_xaxes=True,\n",
    "    shared_yaxes=True,\n",
    "    subplot_titles=(\"LLaMA 7B\", \"LLaMA 13B\", \"LLaMA 30B\", \"LLaMA 65B\"),\n",
    ")\n",
    "\n",
    "fig.add_trace(go.Bar(x=df_7B[\"Tokens/Second\"], y=df_7B[\"Model\"], orientation=\"h\"), row=1, col=1)\n",
    "fig.add_trace(go.Bar(x=df_13B[\"Tokens/Second\"], y=df_13B[\"Model\"], orientation=\"h\"), row=2, col=1)\n",
    "fig.add_trace(go.Bar(x=df_30B[\"Tokens/Second\"], y=df_30B[\"Model\"], orientation=\"h\"), row=3, col=1)\n",
    "fig.add_trace(go.Bar(x=df_65B[\"Tokens/Second\"], y=df_65B[\"Model\"], orientation=\"h\"), row=4, col=1)\n",
    "\n",
    "\n",
    "# fig = px.bar(df, x=\"Tokens/Second\", y=\"Model\", orientation=\"h\")Plot Title <br><sup>Plot Subtitle</sup>\n",
    "fig.update_layout(title=\"LLaMA Inference - Tokens/Second (4-bit, 512 tokens)<br><sup>i9-12900K, 2 x 3090</sup>\")\n",
    "fig.update_layout(\n",
    "    xaxis=dict(range=[0, 50]),  # Set x-axis range\n",
    "    # yaxis=dict(range=[0, 35])  # Set y-axis range\n",
    ")\n",
    "fig.update_layout(showlegend=False)\n",
    "\n",
    "# Show the chart\n",
    "fig.show()\n",
    "fig.write_image(\"test.png\", width=800, height=600, scale=4)"
   ]
  }
 ],
 "metadata": {
  "language_info": {
   "name": "python"
  },
  "orig_nbformat": 4
 },
 "nbformat": 4,
 "nbformat_minor": 2
}
